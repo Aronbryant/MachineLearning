{
 "cells": [
  {
   "cell_type": "code",
   "execution_count": 1,
   "metadata": {
    "collapsed": true
   },
   "outputs": [],
   "source": [
    "import numpy as np\n",
    "import math\n",
    "pro_A,pro_B,pro_C = 0.5,0.5,0.5\n"
   ]
  },
  {
   "cell_type": "markdown",
   "metadata": {},
   "source": [
    "$$P(Y|\\theta) = \\prod[\\pi p^{y_i}(1-p)^{1-y_i}+(1-\\pi) q^{y_i}(1-q)^{1-y_i}]$$\n",
    "\n",
    "### E step:\n",
    "\n",
    "$$\\mu^{i+1}=\\frac{\\pi (p^i)^{y_i}(1-(p^i))^{1-y_i}}{\\pi (p^i)^{y_i}(1-(p^i))^{1-y_i}+(1-\\pi) (q^i)^{y_i}(1-(q^i))^{1-y_i}}$$\n"
   ]
  },
  {
   "cell_type": "code",
   "execution_count": null,
   "metadata": {
    "collapsed": true
   },
   "outputs": [],
   "source": []
  },
  {
   "cell_type": "code",
   "execution_count": 2,
   "metadata": {
    "collapsed": true
   },
   "outputs": [],
   "source": [
    "def pmf(i,pro_A,pro_B,pro_C):\n",
    "    pro_1 = pro_A *math.pow(pro_B,data[i])*math.pow((1-pro_B),1-data[i])#计算第一项的概率 \n",
    "    pro_2 = pro_A*math.pow(pro_C,data[i])*math.pow((1-pro_C),1-data[i])#计算第二项的概率\n",
    "    return pro_1/(pro_1+pro_2)#返回来自正硬币B的概率"
   ]
  },
  {
   "cell_type": "markdown",
   "metadata": {},
   "source": [
    "\n",
    "### M step:\n",
    "\n",
    "$$\\pi^{i+1}=\\frac{1}{n}\\sum_{j=1}^n\\mu^{i+1}_j$$\n",
    "\n",
    "$$p^{i+1}=\\frac{\\sum_{j=1}^n\\mu^{i+1}_jy_i}{\\sum_{j=1}^n\\mu^{i+1}_j}$$\n",
    "\n",
    "$$q^{i+1}=\\frac{\\sum_{j=1}^n(1-\\mu^{i+1}_jy_i)}{\\sum_{j=1}^n(1-\\mu^{i+1}_j)}$$"
   ]
  },
  {
   "cell_type": "code",
   "execution_count": 3,
   "metadata": {},
   "outputs": [
    {
     "name": "stdout",
     "output_type": "stream",
     "text": [
      "初始概率:0.5,0.5,0.5\n",
      "1/10 pro_a:0.500,pro_b:0.600,pro_c:0.600\n",
      "2/10 pro_a:0.500,pro_b:0.600,pro_c:0.600\n"
     ]
    }
   ],
   "source": [
    "class EM:\n",
    "    def __init__(self,prob):\n",
    "        self.pro_A,self.pro_B,self.pro_C = prob\n",
    "        \n",
    "    #e:\n",
    "    def pmf(self, i):\n",
    "        pro_1 = self.pro_A * math.pow(self.pro_B, data[i]) * math.pow((1-self.pro_B), 1-data[i])\n",
    "        pro_2 = (1 - self.pro_A) * math.pow(self.pro_C, data[i]) * math.pow((1-self.pro_C), 1-data[i])\n",
    "        return pro_1 / (pro_1 + pro_2)\n",
    "    \n",
    "    #m:\n",
    "    def fit(self,data):\n",
    "        count = len(data)#数据量\n",
    "        print('初始概率:{},{},{}'.format(self.pro_A,self.pro_B,self.pro_C))#打印初始概率\n",
    "        for d in range(count):\n",
    "            _=yield\n",
    "            _pmf = [self.pmf(k) for k in range(count)]#计算u\n",
    "            pro_A = 1/count *sum(_pmf)#计算第一个参数概率\n",
    "            pro_B = sum([_pmf[k]*data[k] for k in range(count)])/sum([_pmf[k] for k in range(count)])#计算第二个参数\n",
    "            pro_C = sum([(1-_pmf[k])*data[k] for k in range(count)])/sum([(1-_pmf[k]) for k in range(count)])\n",
    "            print('{}/{} pro_a:{:.3f},pro_b:{:.3f},pro_c:{:.3f}'.format(d+1,count,pro_A,pro_B,pro_C))\n",
    "            self.pro_A = pro_A\n",
    "            self.pro_B = pro_B\n",
    "            self.pro_C = pro_C\n",
    "            \n",
    "data = [1,1,0,1,0,0,1,0,1,1]\n",
    "em =EM(prob = [0.5,0.5,0.5])\n",
    "f = em.fit(data)\n",
    "next(f)\n",
    "f.send(1)\n",
    "f.send(2)"
   ]
  },
  {
   "cell_type": "code",
   "execution_count": null,
   "metadata": {
    "collapsed": true
   },
   "outputs": [],
   "source": []
  },
  {
   "cell_type": "code",
   "execution_count": null,
   "metadata": {},
   "outputs": [],
   "source": []
  },
  {
   "cell_type": "code",
   "execution_count": null,
   "metadata": {
    "collapsed": true
   },
   "outputs": [],
   "source": []
  }
 ],
 "metadata": {
  "kernelspec": {
   "display_name": "Python 3",
   "language": "python",
   "name": "python3"
  },
  "language_info": {
   "codemirror_mode": {
    "name": "ipython",
    "version": 3
   },
   "file_extension": ".py",
   "mimetype": "text/x-python",
   "name": "python",
   "nbconvert_exporter": "python",
   "pygments_lexer": "ipython3",
   "version": "3.8.5"
  }
 },
 "nbformat": 4,
 "nbformat_minor": 2
}
