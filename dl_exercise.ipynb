{
 "cells": [
  {
   "cell_type": "markdown",
   "metadata": {},
   "source": [
    "# softmax回归、SVM分类、感知器分类以及ＢＰ神经网络分类"
   ]
  },
  {
   "cell_type": "markdown",
   "metadata": {},
   "source": [
    "<p>姓名：杨云森</p>\n",
    "<p>专业：应用统计</p>\n",
    "<p>学号：20460126007</p>"
   ]
  },
  {
   "cell_type": "markdown",
   "metadata": {},
   "source": [
    "## 数据集(手写数字识别)"
   ]
  },
  {
   "cell_type": "markdown",
   "metadata": {},
   "source": [
    "# Softmax多分类回归"
   ]
  },
  {
   "cell_type": "code",
   "execution_count": 3,
   "metadata": {},
   "outputs": [
    {
     "name": "stdout",
     "output_type": "stream",
     "text": [
      "测试集准确率:96.1%\n"
     ]
    }
   ],
   "source": [
    "import numpy as np\n",
    "import os\n",
    "\n",
    "class Softmax:\n",
    "    def loadData(self, dir):#给出文件目录，读取数据\n",
    "        digits = list() #数据集（数据）\n",
    "        labels = list() #标签\n",
    "        if os.path.exists(dir): #判断目录是否存在\n",
    "            files = os.listdir(dir) #获取目录下的所有文件名\n",
    "            for file in files:  #遍历所有文件\n",
    "                labels.append(file.split('_')[0])   #按照文件名规则，文件名第一位是标签\n",
    "                with open(dir + '\\\\' + file) as f:  #通过“目录+文件名”，获取文件内容\n",
    "                    digit = list()\n",
    "                    for line in f:  #遍历文件每一行\n",
    "                        digit.extend(map(int, list(line.replace('\\n', ''))))    #遍历每行时，把数字通过extend的方法扩展\n",
    "                    digits.append(digit)    #将数据扩展进去\n",
    "        digits = np.array(digits)   #数据集\n",
    "        labels = list(map(int, labels)) #标签\n",
    "        labels = np.array(labels).reshape((-1, 1))  #将标签重构成(N, 1)的大小\n",
    "        return digits, labels\n",
    "\n",
    "    def softmax(self, X):   #softmax函数\n",
    "        return np.exp(X) / np.sum(np.exp(X))\n",
    "\n",
    "    def train(self, digits, labels, maxIter = 100, alpha = 0.1):\n",
    "        self.weights = np.random.uniform(0, 1, (10, 1024))\n",
    "        for iter in range(maxIter):\n",
    "            for i in range(len(digits)):\n",
    "                x = digits[i].reshape(-1, 1)\n",
    "                y = np.zeros((10, 1))\n",
    "                y[labels[i]] = 1\n",
    "                y_ = self.softmax(np.dot(self.weights, x))\n",
    "                self.weights -= alpha * (np.dot((y_ - y), x.T))\n",
    "        return self.weights\n",
    "\n",
    "    def predict(self, digit):   #预测函数\n",
    "        return np.argmax(np.dot(self.weights, digit))   #返回softmax中概率最大的值\n",
    "\n",
    "if __name__ == '__main__':\n",
    "    softmax = Softmax()\n",
    "    trainDigits, trainLabels = softmax.loadData(r'D:\\data\\MachineLearning\\datasets\\trainingDigits')\n",
    "    testDigits, testLabels = softmax.loadData(r'D:\\data\\MachineLearning\\datasets\\testDigits')\n",
    "    softmax.train(trainDigits, trainLabels, maxIter=100) #训练\n",
    "    accuracy = 0\n",
    "    N = len(testDigits) #总共多少测试样本\n",
    "    for i in range(N):\n",
    "        digit = testDigits[i]   #每个测试样本\n",
    "        label = testLabels[i][0]    #每个测试标签\n",
    "        predict = softmax.predict(digit)  #测试结果\n",
    "        if (predict == label):\n",
    "            accuracy += 1\n",
    "    print(\"测试集准确率:%.1f%%\" %(accuracy / N * 100))"
   ]
  },
  {
   "cell_type": "markdown",
   "metadata": {},
   "source": [
    "### 根据一个人的两门成绩判断他（她）能否被某学校录取数据集（感知器、支持向量机、BP）"
   ]
  },
  {
   "cell_type": "code",
   "execution_count": 1,
   "metadata": {
    "ExecuteTime": {
     "end_time": "2021-03-28T05:31:46.656514Z",
     "start_time": "2021-03-28T05:31:46.630843Z"
    }
   },
   "outputs": [],
   "source": [
    "import numpy as np\n",
    "import pandas as pd\n",
    "import matplotlib.pyplot as plt\n",
    "\n",
    "from sklearn.preprocessing import StandardScaler\n",
    "from sklearn.model_selection import train_test_split\n",
    "\n",
    "data = pd.read_csv(r'D:\\data\\MachineLearning\\datasets\\classify_two.txt',names = ['X_1','X_2','label'])\n",
    "data_x = data.iloc[:,0:2]\n",
    "data_y = data.iloc[:,2:]\n",
    "## 标准化\n",
    "scaler = StandardScaler()\n",
    "data_x = scaler.fit_transform(data_x)\n",
    "\n",
    "## 划分训练集和测试集\n",
    "x_train, x_test, y_train, y_test = train_test_split(data_x, data_y, test_size = 0.3, random_state = 1)"
   ]
  },
  {
   "cell_type": "code",
   "execution_count": 2,
   "metadata": {},
   "outputs": [
    {
     "data": {
      "image/png": "[encoded data removed]",
      "text/plain": [
       "<Figure size 720x360 with 1 Axes>"
      ]
     },
     "metadata": {
      "needs_background": "light"
     },
     "output_type": "display_data"
    }
   ],
   "source": [
    "positive = data[data['label']==1]\n",
    "negative = data[data['label']==0]\n",
    "plt.figure(figsize=(10,5))#设置画布\n",
    "plt.scatter(positive['X_1'], positive['X_2'], c='b', marker='o', \n",
    "            label='Admitted')#绘制散点图positive的点，Exam1和Exam2组成一个点\n",
    "plt.scatter(negative['X_1'], negative['X_2'], c='r', marker='x',\n",
    "            label='Not Admitted')#绘制散点图negative的点\n",
    "plt.legend()# 添加图例（也就是图中右上角positive和negative的解释）\n",
    "plt.xlabel('X_1')#添加x轴标签\n",
    "plt.ylabel('X_2 ')#添加y轴标签\n",
    "plt.show()\n"
   ]
  },
  {
   "cell_type": "markdown",
   "metadata": {},
   "source": [
    "## 感知器"
   ]
  },
  {
   "cell_type": "code",
   "execution_count": 7,
   "metadata": {
    "ExecuteTime": {
     "end_time": "2021-03-28T05:31:49.142286Z",
     "start_time": "2021-03-28T05:31:49.127331Z"
    }
   },
   "outputs": [
    {
     "name": "stdout",
     "output_type": "stream",
     "text": [
      "感知器参数: \n",
      "系数: [[0.01696206 0.03500673]] \n",
      "\n",
      "截距: [0.01]\n",
      "================================\n",
      "训练集准确率: 82.61%\n",
      "测试集准确率: 90.00%\n"
     ]
    },
    {
     "name": "stderr",
     "output_type": "stream",
     "text": [
      "D:\\ProgramData\\Anaconda3\\lib\\site-packages\\sklearn\\utils\\validation.py:72: DataConversionWarning: A column-vector y was passed when a 1d array was expected. Please change the shape of y to (n_samples, ), for example using ravel().\n",
      "  return f(**kwargs)\n"
     ]
    }
   ],
   "source": [
    "from sklearn.linear_model import Perceptron\n",
    "from sklearn.metrics import accuracy_score\n",
    "## 建立模型\n",
    "per_clf = Perceptron(max_iter = 100, eta0 = 0.01)\n",
    "## 训练模型\n",
    "per_clf.fit(x_train, y_train)\n",
    "## 预测标签\n",
    "y_train_pred = per_clf.predict(x_train)\n",
    "y_test_pred = per_clf.predict(x_test)\n",
    "## 输出模型系数\n",
    "print(\"感知器参数: \")\n",
    "print('系数: %s \\n\\n截距: %s' % (per_clf.coef_, per_clf.intercept_))\n",
    "print('================================')\n",
    "## 准确率\n",
    "train_acc = accuracy_score(y_train, y_train_pred)\n",
    "test_acc = accuracy_score(y_test, y_test_pred)\n",
    "print('训练集准确率: {:.2f}%'.format(train_acc * 100))\n",
    "print('测试集准确率: {:.2f}%'.format(test_acc * 100))"
   ]
  },
  {
   "cell_type": "markdown",
   "metadata": {},
   "source": [
    "## 支持向量机"
   ]
  },
  {
   "cell_type": "code",
   "execution_count": 8,
   "metadata": {
    "ExecuteTime": {
     "end_time": "2021-03-28T05:31:38.895337Z",
     "start_time": "2021-03-28T05:31:38.853410Z"
    }
   },
   "outputs": [
    {
     "name": "stdout",
     "output_type": "stream",
     "text": [
      "SVM 参数: \n",
      "系数: [[1.02887429 1.02895013]] \n",
      "\n",
      "截距: [0.60199901]\n",
      "================================\n",
      "训练集准确率: 89.86%\n",
      "测试集准确率: 93.33%\n"
     ]
    },
    {
     "name": "stderr",
     "output_type": "stream",
     "text": [
      "D:\\ProgramData\\Anaconda3\\lib\\site-packages\\sklearn\\utils\\validation.py:72: DataConversionWarning: A column-vector y was passed when a 1d array was expected. Please change the shape of y to (n_samples, ), for example using ravel().\n",
      "  return f(**kwargs)\n"
     ]
    }
   ],
   "source": [
    "from sklearn.svm import LinearSVC\n",
    "from sklearn.metrics import accuracy_score\n",
    "## 建立模型\n",
    "svm_clf = LinearSVC(C = 1.0, random_state = 100, max_iter = 500)\n",
    "## 训练模型\n",
    "svm_clf.fit(x_train, y_train)\n",
    "## 预测标签\n",
    "y_train_pred = svm_clf.predict(x_train)\n",
    "y_test_pred = svm_clf.predict(x_test)\n",
    "## 输出模型系数\n",
    "print(\"SVM 参数: \")\n",
    "print('系数: %s \\n\\n截距: %s' % (svm_clf.coef_, svm_clf.intercept_))\n",
    "print('================================')\n",
    "## 准确率\n",
    "train_acc = accuracy_score(y_train, y_train_pred)\n",
    "test_acc = accuracy_score(y_test, y_test_pred)\n",
    "print('训练集准确率: {:.2f}%'.format(train_acc * 100))\n",
    "print('测试集准确率: {:.2f}%'.format(test_acc * 100))"
   ]
  },
  {
   "cell_type": "markdown",
   "metadata": {},
   "source": [
    "## BP神经网络"
   ]
  },
  {
   "cell_type": "code",
   "execution_count": 15,
   "metadata": {
    "ExecuteTime": {
     "end_time": "2021-03-28T05:29:54.851225Z",
     "start_time": "2021-03-28T05:29:54.728556Z"
    }
   },
   "outputs": [
    {
     "name": "stdout",
     "output_type": "stream",
     "text": [
      "训练集准确率: 30.43%\n",
      "测试集准确率: 46.67%\n"
     ]
    },
    {
     "name": "stderr",
     "output_type": "stream",
     "text": [
      "D:\\ProgramData\\Anaconda3\\lib\\site-packages\\sklearn\\utils\\validation.py:72: DataConversionWarning: A column-vector y was passed when a 1d array was expected. Please change the shape of y to (n_samples, ), for example using ravel().\n",
      "  return f(**kwargs)\n",
      "D:\\ProgramData\\Anaconda3\\lib\\site-packages\\sklearn\\neural_network\\_multilayer_perceptron.py:582: ConvergenceWarning: Stochastic Optimizer: Maximum iterations (200) reached and the optimization hasn't converged yet.\n",
      "  warnings.warn(\n"
     ]
    }
   ],
   "source": [
    "from sklearn.neural_network import MLPClassifier\n",
    "from sklearn.metrics import accuracy_score\n",
    "## 建立模型\n",
    "mlp_clf = MLPClassifier(hidden_layer_sizes = 3,\n",
    "                        activation = 'relu',\n",
    "                        random_state = 1)\n",
    "## 训练模型\n",
    "mlp_clf.fit(x_train, y_train)\n",
    "## 预测标签\n",
    "y_train_pred = mlp_clf.predict(x_train)\n",
    "y_test_pred = mlp_clf.predict(x_test)\n",
    "## 准确率\n",
    "train_acc = accuracy_score(y_train, y_train_pred)\n",
    "test_acc = accuracy_score(y_test, y_test_pred)\n",
    "print('训练集准确率: {:.2f}%'.format(train_acc * 100))\n",
    "print('测试集准确率: {:.2f}%'.format(test_acc * 100))"
   ]
  },
  {
   "cell_type": "markdown",
   "metadata": {},
   "source": [
    "## 当隐藏层数较低（3层）时，效果比较糟糕，因此我们增加隐藏层的数量，继续训练。"
   ]
  },
  {
   "cell_type": "code",
   "execution_count": 16,
   "metadata": {
    "ExecuteTime": {
     "end_time": "2021-03-28T05:30:02.801903Z",
     "start_time": "2021-03-28T05:30:02.695212Z"
    }
   },
   "outputs": [
    {
     "name": "stdout",
     "output_type": "stream",
     "text": [
      "训练集准确率: 88.41%\n",
      "测试集准确率: 93.33%\n"
     ]
    },
    {
     "name": "stderr",
     "output_type": "stream",
     "text": [
      "D:\\ProgramData\\Anaconda3\\lib\\site-packages\\sklearn\\utils\\validation.py:72: DataConversionWarning: A column-vector y was passed when a 1d array was expected. Please change the shape of y to (n_samples, ), for example using ravel().\n",
      "  return f(**kwargs)\n",
      "D:\\ProgramData\\Anaconda3\\lib\\site-packages\\sklearn\\neural_network\\_multilayer_perceptron.py:582: ConvergenceWarning: Stochastic Optimizer: Maximum iterations (200) reached and the optimization hasn't converged yet.\n",
      "  warnings.warn(\n"
     ]
    }
   ],
   "source": [
    "mlp_clf = MLPClassifier(hidden_layer_sizes = 4,\n",
    "                        activation = 'relu',\n",
    "                        random_state = 1)\n",
    "mlp_clf.fit(x_train, y_train)\n",
    "y_train_pred = mlp_clf.predict(x_train)\n",
    "y_test_pred = mlp_clf.predict(x_test)\n",
    "\n",
    "train_acc = accuracy_score(y_train, y_train_pred)\n",
    "test_acc = accuracy_score(y_test, y_test_pred)\n",
    "print('训练集准确率: {:.2f}%'.format(train_acc * 100))\n",
    "print('测试集准确率: {:.2f}%'.format(test_acc * 100))"
   ]
  },
  {
   "cell_type": "code",
   "execution_count": 17,
   "metadata": {
    "ExecuteTime": {
     "end_time": "2021-03-28T05:30:18.906248Z",
     "start_time": "2021-03-28T05:30:18.791556Z"
    }
   },
   "outputs": [
    {
     "name": "stdout",
     "output_type": "stream",
     "text": [
      "训练集准确率: 92.75%\n",
      "测试集准确率: 96.67%\n"
     ]
    },
    {
     "name": "stderr",
     "output_type": "stream",
     "text": [
      "D:\\ProgramData\\Anaconda3\\lib\\site-packages\\sklearn\\utils\\validation.py:72: DataConversionWarning: A column-vector y was passed when a 1d array was expected. Please change the shape of y to (n_samples, ), for example using ravel().\n",
      "  return f(**kwargs)\n",
      "D:\\ProgramData\\Anaconda3\\lib\\site-packages\\sklearn\\neural_network\\_multilayer_perceptron.py:582: ConvergenceWarning: Stochastic Optimizer: Maximum iterations (200) reached and the optimization hasn't converged yet.\n",
      "  warnings.warn(\n"
     ]
    }
   ],
   "source": [
    "mlp_clf = MLPClassifier(hidden_layer_sizes = 5,\n",
    "                        activation = 'relu',\n",
    "                        random_state = 1)\n",
    "mlp_clf.fit(x_train, y_train)\n",
    "y_train_pred = mlp_clf.predict(x_train)\n",
    "y_test_pred = mlp_clf.predict(x_test)\n",
    "\n",
    "train_acc = accuracy_score(y_train, y_train_pred)\n",
    "test_acc = accuracy_score(y_test, y_test_pred)\n",
    "print('训练集准确率: {:.2f}%'.format(train_acc * 100))\n",
    "print('测试集准确率: {:.2f}%'.format(test_acc * 100))"
   ]
  },
  {
   "cell_type": "markdown",
   "metadata": {},
   "source": [
    "## 针对该数据集利用三种不同模型进行训练得到的训练集准确率和测试集准确率如下：\n",
    "\n",
    "||SVM|Perceptron|BP_netowrk|\n",
    "|-----|-----|-----|-----|\n",
    "|训练集准确率|82.61%|89.86%|92.75%|\n",
    "|测试集准确率|90.00%|93.33%|96.67%|\n",
    "\n",
    "## 从该表可以看出该数据利用隐藏层数为5层的BP神经网络所得到的结果最好。"
   ]
  }
 ],
 "metadata": {
  "kernelspec": {
   "display_name": "Python 3",
   "language": "python",
   "name": "python3"
  },
  "language_info": {
   "codemirror_mode": {
    "name": "ipython",
    "version": 3
   },
   "file_extension": ".py",
   "mimetype": "text/x-python",
   "name": "python",
   "nbconvert_exporter": "python",
   "pygments_lexer": "ipython3",
   "version": "3.8.5"
  },
  "toc": {
   "base_numbering": 1,
   "nav_menu": {},
   "number_sections": true,
   "sideBar": true,
   "skip_h1_title": false,
   "title_cell": "Table of Contents",
   "title_sidebar": "Contents",
   "toc_cell": false,
   "toc_position": {},
   "toc_section_display": true,
   "toc_window_display": true
  },
  "varInspector": {
   "cols": {
    "lenName": 16,
    "lenType": 16,
    "lenVar": 40
   },
   "kernels_config": {
    "python": {
     "delete_cmd_postfix": "",
     "delete_cmd_prefix": "del ",
     "library": "var_list.py",
     "varRefreshCmd": "print(var_dic_list())"
    },
    "r": {
     "delete_cmd_postfix": ") ",
     "delete_cmd_prefix": "rm(",
     "library": "var_list.r",
     "varRefreshCmd": "cat(var_dic_list()) "
    }
   },
   "types_to_exclude": [
    "module",
    "function",
    "builtin_function_or_method",
    "instance",
    "_Feature"
   ],
   "window_display": false
  }
 },
 "nbformat": 4,
 "nbformat_minor": 2
}
