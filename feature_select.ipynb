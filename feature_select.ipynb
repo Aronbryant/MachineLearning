{
 "cells": [
  {
   "cell_type": "code",
   "execution_count": 42,
   "metadata": {},
   "outputs": [],
   "source": [
    "import pandas as pd\n",
    "data = pd.read_excel(r'D:\\data\\MachineLearning\\RON.xlsx',index_col = None)\n",
    "\n",
    "data.head()\n",
    "\n",
    "y = data.iloc[:,8:9]\n",
    "\n",
    "del data['辛烷值RON.1']\n",
    "\n",
    "from sklearn.preprocessing import MinMaxScaler\n",
    "\n",
    "x_minmax = MinMaxScaler().fit(data).transform(data)\n",
    "\n",
    "\n",
    "y_minmax = MinMaxScaler().fit(y).transform(y)\n",
    "\n",
    "y.shape\n",
    "\n",
    "from xgboost import XGBRegressor\n",
    "model = XGBRegressor()\n",
    "model.fit(x_minmax,y_minmax)\n",
    "\n",
    "feature_importance=model.feature_importances_\n",
    "\n",
    "def getListMaxNumIndex(num_list,topk=30):\n",
    "    '''\n",
    "    获取列表中最大的前n个数值的位置索引\n",
    "    '''\n",
    "    num_dict  = {}\n",
    "    for i in range(len(num_list)):\n",
    "        num_dict[i] = num_list[i]\n",
    "        \n",
    "    res_list = sorted(num_dict.items(),key = lambda e:e[1])\n",
    "    \n",
    "    max_num_index = [one[0] for one in res_list[::-1][:topk]]\n",
    "    print('前三十个最大特征值对应的索引：',max_num_index)\n",
    " \n",
    "\n",
    "\n",
    "\n",
    "getListMaxNumIndex(feature_list,30)\n",
    "\n",
    "res_feature=data.columns[[1, 133, 242, 134, 281, 172, 287,\n",
    "              190, 19, 84, 77, 132, 289, 356, 20, \n",
    "              218, 325, 224, 33, 182, 239, 42, 312, 197, 333, 300, 62, 263, 94, 274]]\n",
    "res_feature_importance = feature_importance[[1, 133, 242, 134, 281, 172, 287, \n",
    "                                       190, 19, 84, 77, 132, 289, 356, 20, 218, 325, 224, 33, \n",
    "                                       182, 239, 42, 312, 197, 333, 300, 62, 263, 94, 274]]"
   ]
  },
  {
   "cell_type": "code",
   "execution_count": 80,
   "metadata": {},
   "outputs": [
    {
     "data": {
      "text/plain": [
       "Index(['辛烷值RON', 'E-101A壳程出口管温度', 'R-102 #3通风挡板温度', 'D-204液位', 'K-102A排气压力',\n",
       "       'D-106温度', 'K-101B排气压力', '再生器顶部/再生器接收器差压', '反应器顶底压差', 'D121去稳定塔流量',\n",
       "       'K101机出口压力', 'E-101C管程出口管温度', 'K-101B进气温度', '再生器藏量', '反应过滤器压差.1',\n",
       "       '紧急氢气去R-101流量', 'S_ZORB AT-0003', '反应器接收器LH差压', '精制汽油出装置硫含量',\n",
       "       '稳定塔底出口温度', 'R-102底滑阀差压', '燃料气进装置流量', 'EH-102出口管', '原料汽油硫含量',\n",
       "       'S_ZORB AT-0011', 'F-101出口总管压力', '原料泵出口流量', 'ME-105过滤器压差', '再生器温度',\n",
       "       'K-103A排气温度'],\n",
       "      dtype='object')"
      ]
     },
     "execution_count": 80,
     "metadata": {},
     "output_type": "execute_result"
    }
   ],
   "source": [
    "res_feature"
   ]
  },
  {
   "cell_type": "code",
   "execution_count": 83,
   "metadata": {},
   "outputs": [],
   "source": [
    "res_dict = dict(zip(res_feature,res_feature_importance))     "
   ]
  },
  {
   "cell_type": "code",
   "execution_count": 87,
   "metadata": {},
   "outputs": [],
   "source": [
    "df = pd.DataFrame([res_dict]).T\n",
    "\n",
    "df = df.reset_index().rename(columns={'index':'变量名'})\n",
    "\n",
    "df.to_csv('result1.csv',encoding='utf-8-sig')"
   ]
  },
  {
   "cell_type": "code",
   "execution_count": 1,
   "metadata": {},
   "outputs": [
    {
     "data": {
      "text/plain": [
       "(325, 1)"
      ]
     },
     "execution_count": 1,
     "metadata": {},
     "output_type": "execute_result"
    }
   ],
   "source": [
    "import pandas as pd\n",
    "data = pd.read_excel(r'D:\\data\\MachineLearning\\RON.xlsx',index_col = None)\n",
    "\n",
    "data.head()\n",
    "\n",
    "y = data.iloc[:,8:9]\n",
    "\n",
    "del data['辛烷值RON.1']\n",
    "\n",
    "from sklearn.preprocessing import MinMaxScaler\n",
    "\n",
    "x_minmax = MinMaxScaler().fit(data).transform(data)\n",
    "\n",
    "\n",
    "y_minmax = MinMaxScaler().fit(y).transform(y)\n",
    "\n",
    "y.shape\n",
    "\n",
    "from sklearn.ensemble import RandomForestRegressor\n",
    "forest = RandomForestRegressor(n_estimators=10000,random_state=42,n_jobs=-1)\n",
    "forest.fit(x_minmax,y_minmax)\n",
    "\n",
    "importances = forest.feature_importances_\n",
    "\n",
    "def getListMaxNumIndex(num_list,topk=30):\n",
    "    '''\n",
    "    获取列表中最大的前n个数值的位置索引\n",
    "    '''\n",
    "    num_dict  = {}\n",
    "    for i in range(len(num_list)):\n",
    "        num_dict[i] = num_list[i]\n",
    "        \n",
    "    res_list = sorted(num_dict.items(),key = lambda e:e[1])\n",
    "    \n",
    "    max_num_index = [one[0] for one in res_list[::-1][:topk]]\n",
    "    print('前三十个最大特征值对应的索引：',max_num_index)\n",
    " \n",
    "\n",
    "\n",
    "\n",
    "getListMaxNumIndex(importances,30)\n",
    "\n",
    "res_feature=data.columns[[1, 242, 239, 87, 312, 290, 309, 33, 133, 177, 35, 191, 84, \n",
    "                          75, 58, 139, 197, 165, 94, 276,\n",
    "                          30, 67, 12, 192, 134, 7, 298, 162, 167, 74]]\n",
    "\n",
    "res_dict = dict(zip(res_feature,importances))   \n",
    "\n",
    "df = pd.DataFrame([res_dict]).T\n",
    "\n",
    "df = df.reset_index().rename(columns={'index':'变量名'})\n",
    "\n",
    "df.to_csv('result2.csv',encoding='utf-8-sig')"
   ]
  },
  {
   "cell_type": "code",
   "execution_count": null,
   "metadata": {},
   "outputs": [],
   "source": []
  },
  {
   "cell_type": "code",
   "execution_count": null,
   "metadata": {},
   "outputs": [],
   "source": []
  },
  {
   "cell_type": "code",
   "execution_count": null,
   "metadata": {},
   "outputs": [],
   "source": []
  },
  {
   "cell_type": "code",
   "execution_count": null,
   "metadata": {},
   "outputs": [],
   "source": []
  },
  {
   "cell_type": "code",
   "execution_count": null,
   "metadata": {},
   "outputs": [],
   "source": []
  },
  {
   "cell_type": "code",
   "execution_count": null,
   "metadata": {},
   "outputs": [],
   "source": []
  },
  {
   "cell_type": "code",
   "execution_count": null,
   "metadata": {},
   "outputs": [],
   "source": []
  }
 ],
 "metadata": {
  "kernelspec": {
   "display_name": "Python 3",
   "language": "python",
   "name": "python3"
  },
  "language_info": {
   "codemirror_mode": {
    "name": "ipython",
    "version": 3
   },
   "file_extension": ".py",
   "mimetype": "text/x-python",
   "name": "python",
   "nbconvert_exporter": "python",
   "pygments_lexer": "ipython3",
   "version": "3.8.5"
  }
 },
 "nbformat": 4,
 "nbformat_minor": 4
}
