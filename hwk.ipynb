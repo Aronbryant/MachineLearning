{
 "cells": [
  {
   "cell_type": "code",
   "execution_count": null,
   "metadata": {},
   "outputs": [],
   "source": []
  },
  {
   "cell_type": "code",
   "execution_count": null,
   "metadata": {},
   "outputs": [],
   "source": []
  },
  {
   "cell_type": "code",
   "execution_count": 1,
   "metadata": {},
   "outputs": [
    {
     "name": "stderr",
     "output_type": "stream",
     "text": [
      "C:\\ProgramData\\Anaconda3\\lib\\site-packages\\sklearn\\linear_model\\coordinate_descent.py:491: ConvergenceWarning: Objective did not converge. You might want to increase the number of iterations. Fitting data with very small alpha may cause precision problems.\n",
      "  ConvergenceWarning)\n",
      "C:\\ProgramData\\Anaconda3\\lib\\site-packages\\sklearn\\linear_model\\coordinate_descent.py:491: ConvergenceWarning: Objective did not converge. You might want to increase the number of iterations. Fitting data with very small alpha may cause precision problems.\n",
      "  ConvergenceWarning)\n",
      "C:\\ProgramData\\Anaconda3\\lib\\site-packages\\sklearn\\linear_model\\coordinate_descent.py:491: ConvergenceWarning: Objective did not converge. You might want to increase the number of iterations. Fitting data with very small alpha may cause precision problems.\n",
      "  ConvergenceWarning)\n",
      "C:\\ProgramData\\Anaconda3\\lib\\site-packages\\sklearn\\linear_model\\coordinate_descent.py:491: ConvergenceWarning: Objective did not converge. You might want to increase the number of iterations. Fitting data with very small alpha may cause precision problems.\n",
      "  ConvergenceWarning)\n",
      "C:\\ProgramData\\Anaconda3\\lib\\site-packages\\sklearn\\linear_model\\coordinate_descent.py:491: ConvergenceWarning: Objective did not converge. You might want to increase the number of iterations. Fitting data with very small alpha may cause precision problems.\n",
      "  ConvergenceWarning)\n",
      "C:\\ProgramData\\Anaconda3\\lib\\site-packages\\sklearn\\linear_model\\coordinate_descent.py:491: ConvergenceWarning: Objective did not converge. You might want to increase the number of iterations. Fitting data with very small alpha may cause precision problems.\n",
      "  ConvergenceWarning)\n",
      "C:\\ProgramData\\Anaconda3\\lib\\site-packages\\sklearn\\linear_model\\coordinate_descent.py:491: ConvergenceWarning: Objective did not converge. You might want to increase the number of iterations. Fitting data with very small alpha may cause precision problems.\n",
      "  ConvergenceWarning)\n",
      "C:\\ProgramData\\Anaconda3\\lib\\site-packages\\sklearn\\linear_model\\coordinate_descent.py:491: ConvergenceWarning: Objective did not converge. You might want to increase the number of iterations. Fitting data with very small alpha may cause precision problems.\n",
      "  ConvergenceWarning)\n",
      "C:\\ProgramData\\Anaconda3\\lib\\site-packages\\sklearn\\linear_model\\coordinate_descent.py:491: ConvergenceWarning: Objective did not converge. You might want to increase the number of iterations. Fitting data with very small alpha may cause precision problems.\n",
      "  ConvergenceWarning)\n",
      "C:\\ProgramData\\Anaconda3\\lib\\site-packages\\sklearn\\linear_model\\coordinate_descent.py:491: ConvergenceWarning: Objective did not converge. You might want to increase the number of iterations. Fitting data with very small alpha may cause precision problems.\n",
      "  ConvergenceWarning)\n",
      "C:\\ProgramData\\Anaconda3\\lib\\site-packages\\sklearn\\linear_model\\coordinate_descent.py:491: ConvergenceWarning: Objective did not converge. You might want to increase the number of iterations. Fitting data with very small alpha may cause precision problems.\n",
      "  ConvergenceWarning)\n",
      "C:\\ProgramData\\Anaconda3\\lib\\site-packages\\sklearn\\linear_model\\coordinate_descent.py:491: ConvergenceWarning: Objective did not converge. You might want to increase the number of iterations. Fitting data with very small alpha may cause precision problems.\n",
      "  ConvergenceWarning)\n",
      "C:\\ProgramData\\Anaconda3\\lib\\site-packages\\sklearn\\linear_model\\coordinate_descent.py:491: ConvergenceWarning: Objective did not converge. You might want to increase the number of iterations. Fitting data with very small alpha may cause precision problems.\n",
      "  ConvergenceWarning)\n",
      "C:\\ProgramData\\Anaconda3\\lib\\site-packages\\sklearn\\linear_model\\coordinate_descent.py:491: ConvergenceWarning: Objective did not converge. You might want to increase the number of iterations. Fitting data with very small alpha may cause precision problems.\n",
      "  ConvergenceWarning)\n",
      "C:\\ProgramData\\Anaconda3\\lib\\site-packages\\sklearn\\linear_model\\coordinate_descent.py:491: ConvergenceWarning: Objective did not converge. You might want to increase the number of iterations. Fitting data with very small alpha may cause precision problems.\n",
      "  ConvergenceWarning)\n",
      "C:\\ProgramData\\Anaconda3\\lib\\site-packages\\sklearn\\linear_model\\coordinate_descent.py:491: ConvergenceWarning: Objective did not converge. You might want to increase the number of iterations. Fitting data with very small alpha may cause precision problems.\n",
      "  ConvergenceWarning)\n"
     ]
    },
    {
     "name": "stdout",
     "output_type": "stream",
     "text": [
      "最优正则化参数 : 0.000335292414924956\n"
     ]
    },
    {
     "name": "stderr",
     "output_type": "stream",
     "text": [
      "C:\\ProgramData\\Anaconda3\\lib\\site-packages\\sklearn\\linear_model\\coordinate_descent.py:491: ConvergenceWarning: Objective did not converge. You might want to increase the number of iterations. Fitting data with very small alpha may cause precision problems.\n",
      "  ConvergenceWarning)\n",
      "C:\\ProgramData\\Anaconda3\\lib\\site-packages\\matplotlib\\mathtext.py:854: MathTextWarning: Font 'default' does not have a glyph for '-' [U+2212]\n",
      "  MathTextWarning)\n",
      "C:\\ProgramData\\Anaconda3\\lib\\site-packages\\matplotlib\\mathtext.py:855: MathTextWarning: Substituting with a dummy symbol.\n",
      "  warn(\"Substituting with a dummy symbol.\", MathTextWarning)\n"
     ]
    },
    {
     "data": {
      "image/png": "[encoded data removed]",
      "text/plain": [
       "<matplotlib.figure.Figure at 0x23ea0f09208>"
      ]
     },
     "metadata": {},
     "output_type": "display_data"
    }
   ],
   "source": [
    " import numpy as np  \n",
    " from sklearn import linear_model  \n",
    " \n",
    " ###############################################################################  \n",
    " # 生成样本数据\n",
    " n_samples_train, n_samples_test, n_features = 75, 150, 500  \n",
    " np.random.seed(0)  \n",
    " coef = np.random.randn(n_features)  \n",
    " coef[50:] = 0.0  # 只让前五十个变量影响模型 \n",
    " X = np.random.randn(n_samples_train + n_samples_test, n_features)  \n",
    " y = np.dot(X, coef)  \n",
    " \n",
    " # 分离训练集和测试集  \n",
    " X_train, X_test = X[:n_samples_train], X[n_samples_train:]  \n",
    " y_train, y_test = y[:n_samples_train], y[n_samples_train:]  \n",
    " \n",
    " ###############################################################################  \n",
    " # 计算训练误差和测试误差\n",
    " alphas = np.logspace(-5, 1, 60)  \n",
    " enet = linear_model.ElasticNet(l1_ratio=0.7)  \n",
    " train_errors = list()  \n",
    " test_errors = list()  \n",
    " for alpha in alphas:  \n",
    "     enet.set_params(alpha=alpha)  \n",
    "     enet.fit(X_train, y_train)  \n",
    "     train_errors.append(enet.score(X_train, y_train))  \n",
    "     test_errors.append(enet.score(X_test, y_test))  \n",
    " \n",
    " i_alpha_optim = np.argmax(test_errors)  \n",
    " alpha_optim = alphas[i_alpha_optim]  \n",
    " print(\"最优正则化参数 : %s\" % alpha_optim)  \n",
    " \n",
    " # 在整个数据集上用正则化参数估计系数 \n",
    " enet.set_params(alpha=alpha_optim)  \n",
    " coef_ = enet.fit(X, y).coef_  \n",
    " \n",
    " ###############################################################################  \n",
    " # 画出结果图 \n",
    " \n",
    " import matplotlib.pyplot as plt  \n",
    " plt.rcParams['font.sans-serif'] = 'SimHei'\n",
    " plt.rcParams['axes.unicode_minus'] = False\n",
    " plt.subplot(2, 1, 1)  \n",
    " plt.semilogx(alphas, train_errors, label='Train')  \n",
    " plt.semilogx(alphas, test_errors, label='Test')  \n",
    " plt.vlines(alpha_optim, plt.ylim()[0], np.max(test_errors), color='k',  \n",
    "         linewidth=3, label='Optimum on test')  \n",
    " plt.legend(loc='lower left')  \n",
    " plt.ylim([0, 1.2])  \n",
    " plt.xlabel('paramter')  \n",
    " plt.ylabel('Performance')  \n",
    " plt.show()\n",
    " \n"
   ]
  },
  {
   "cell_type": "code",
   "execution_count": null,
   "metadata": {
    "collapsed": true
   },
   "outputs": [],
   "source": []
  },
  {
   "cell_type": "code",
   "execution_count": null,
   "metadata": {},
   "outputs": [],
   "source": []
  },
  {
   "cell_type": "code",
   "execution_count": null,
   "metadata": {},
   "outputs": [],
   "source": []
  },
  {
   "cell_type": "code",
   "execution_count": 2,
   "metadata": {},
   "outputs": [
    {
     "data": {
      "image/png": "[encoded data removed]",
      "text/plain": [
       "<matplotlib.figure.Figure at 0x23ea4c294a8>"
      ]
     },
     "metadata": {},
     "output_type": "display_data"
    }
   ],
   "source": [
    " # 真实参数与估计参数的对比\n",
    "        \n",
    " plt.rcParams['font.sans-serif'] = 'SimHei'\n",
    " plt.rcParams['axes.unicode_minus'] = False\n",
    " plt.subplot(2, 1, 2)  \n",
    " plt.plot(coef, label='真实参数')  \n",
    " plt.plot(coef_, label='估计参数')  \n",
    " plt.legend()  \n",
    " plt.subplots_adjust(0.09, 0.04, 0.94, 0.94, 0.26, 0.26)  \n",
    " plt.show()  "
   ]
  },
  {
   "cell_type": "code",
   "execution_count": null,
   "metadata": {},
   "outputs": [],
   "source": []
  },
  {
   "cell_type": "code",
   "execution_count": null,
   "metadata": {
    "collapsed": true
   },
   "outputs": [],
   "source": []
  },
  {
   "cell_type": "code",
   "execution_count": null,
   "metadata": {
    "collapsed": true
   },
   "outputs": [],
   "source": []
  }
 ],
 "metadata": {
  "kernelspec": {
   "display_name": "Python 3",
   "language": "python",
   "name": "python3"
  },
  "language_info": {
   "codemirror_mode": {
    "name": "ipython",
    "version": 3
   },
   "file_extension": ".py",
   "mimetype": "text/x-python",
   "name": "python",
   "nbconvert_exporter": "python",
   "pygments_lexer": "ipython3",
   "version": "3.6.3"
  }
 },
 "nbformat": 4,
 "nbformat_minor": 2
}
