{
 "cells": [
  {
   "cell_type": "code",
   "execution_count": 7,
   "metadata": {},
   "outputs": [
    {
     "name": "stdout",
     "output_type": "stream",
     "text": [
      "误分类点为： [ 3 -1] 此时的w和b为： [[0.]\n",
      " [0.]] 0\n",
      "误分类点为： [1 1] 此时的w和b为： [[-3.]\n",
      " [ 1.]] -1\n",
      "误分类点为： [1 1] 此时的w和b为： [[-2.]\n",
      " [ 2.]] 0\n",
      "最终得到的w和b为： [[-1.]\n",
      " [ 3.]] 1\n"
     ]
    },
    {
     "data": {
      "image/png": "[encoded data removed]",
      "text/plain": [
       "<matplotlib.figure.Figure at 0x24b10e64630>"
      ]
     },
     "metadata": {},
     "output_type": "display_data"
    }
   ],
   "source": [
    "import numpy as np\n",
    "import matplotlib.pyplot as plt\n",
    "\n",
    "\n",
    "def createdata():\n",
    "    samples = np.array([[3,-1],[4,-3],[1,1],[1,2]])\n",
    "    labels = [-1,-1,1,1]\n",
    "    return samples,labels\n",
    "#训练感知机模型\n",
    "class Perceptron():\n",
    "    def __init__(self,x,y,a=1):\n",
    "        self.x=x\n",
    "        self.y=y\n",
    "        self.w=np.zeros((x.shape[1],1))\n",
    "        self.b=0\n",
    "        self.a=1\n",
    "        self.numsamples=self.x.shape[0]\n",
    "        self.numfeatures=self.x.shape[1]\n",
    "\n",
    "#\n",
    "    def sign(self,w,b,x):\n",
    "        y=np.dot(x,w)+b\n",
    "        return int(y)\n",
    "\n",
    "    def update(self,label_i,data_i):\n",
    "        tmp=label_i*self.a*data_i\n",
    "        tmp=tmp.reshape(self.w.shape)\n",
    "    \n",
    "        self.w=tmp+self.w\n",
    "        self.b=self.b+label_i*self.a\n",
    "    \n",
    "    def train(self):\n",
    "        isFind=False\n",
    "        while not isFind:\n",
    "            count=0\n",
    "            for i in range(self.numsamples):\n",
    "                tmpY=self.sign(self.w,self.b,self.x[i,:])\n",
    "                if tmpY*self.y[i]<=0:\n",
    "                    print('误分类点为：',self.x[i,:],'此时的w和b为：',self.w,self.b)\n",
    "                \n",
    "                    count+=1\n",
    "                    self.update(self.y[i],self.x[i,:])\n",
    "                 \n",
    "            if count ==0:\n",
    "                print('最终得到的w和b为：',self.w,self.b)\n",
    "                isFind=True\n",
    "        return self.w,self.b\n",
    "class Picture():\n",
    "    def __init__(self,data,w,b):\n",
    "        self.b=b\n",
    "        self.w=w\n",
    "        plt.figure(1)\n",
    "        plt.title('Perceptron Learning Algotithm',size=14)\n",
    "        plt.xlabel('x0-axis',size=14)\n",
    "        plt.ylabel('x1-axis',size=14)\n",
    "        xData=np.linspace(0,5,100)\n",
    "        yData=self.expression(xData)\n",
    "        plt.plot(xData,yData,color='r',label='sample data')\n",
    "        \n",
    "        plt.scatter(data[0][0],data[0][1],s=50)\n",
    "        plt.scatter(data[1][0],data[1][1],s=50)\n",
    "        plt.scatter(data[2][0],data[2][1],s=50,marker='x')\n",
    "        plt.scatter(data[3][0],data[3][1],s=50,marker='x')\n",
    "        \n",
    "    def expression(self,x):\n",
    "        y=(-self.b-self.w[0]*x)/self.w[1]\n",
    "        return y\n",
    "    def Show(self):\n",
    "        plt.show()\n",
    "        \n",
    "if __name__=='__main__':\n",
    "    samples,labels=createdata()\n",
    "    mp=Perceptron(x=samples,y=labels)\n",
    "    weights,bias=mp.train()\n",
    "    picture=Picture(samples,weights,bias)\n",
    "    picture.Show()"
   ]
  },
  {
   "cell_type": "markdown",
   "metadata": {},
   "source": [
    "# 感知机算法对偶形式"
   ]
  },
  {
   "cell_type": "code",
   "execution_count": 16,
   "metadata": {},
   "outputs": [
    {
     "ename": "TypeError",
     "evalue": "only size-1 arrays can be converted to Python scalars",
     "output_type": "error",
     "traceback": [
      "\u001b[1;31m---------------------------------------------------------------------------\u001b[0m",
      "\u001b[1;31mTypeError\u001b[0m                                 Traceback (most recent call last)",
      "\u001b[1;32m<ipython-input-16-0f98ac984cf6>\u001b[0m in \u001b[0;36m<module>\u001b[1;34m()\u001b[0m\n\u001b[0;32m     81\u001b[0m     \u001b[0msamples\u001b[0m\u001b[1;33m,\u001b[0m\u001b[0mlabels\u001b[0m\u001b[1;33m=\u001b[0m\u001b[0mcreatedata\u001b[0m\u001b[1;33m(\u001b[0m\u001b[1;33m)\u001b[0m\u001b[1;33m\u001b[0m\u001b[0m\n\u001b[0;32m     82\u001b[0m     \u001b[0mmp\u001b[0m\u001b[1;33m=\u001b[0m\u001b[0mPerceptron\u001b[0m\u001b[1;33m(\u001b[0m\u001b[0mx\u001b[0m\u001b[1;33m=\u001b[0m\u001b[0msamples\u001b[0m\u001b[1;33m,\u001b[0m\u001b[0my\u001b[0m\u001b[1;33m=\u001b[0m\u001b[0mlabels\u001b[0m\u001b[1;33m)\u001b[0m\u001b[1;33m\u001b[0m\u001b[0m\n\u001b[1;32m---> 83\u001b[1;33m     \u001b[0mweights\u001b[0m\u001b[1;33m,\u001b[0m\u001b[0mbias\u001b[0m\u001b[1;33m=\u001b[0m\u001b[0mmp\u001b[0m\u001b[1;33m.\u001b[0m\u001b[0mtrain\u001b[0m\u001b[1;33m(\u001b[0m\u001b[1;33m)\u001b[0m\u001b[1;33m\u001b[0m\u001b[0m\n\u001b[0m\u001b[0;32m     84\u001b[0m     \u001b[0mpicture\u001b[0m\u001b[1;33m=\u001b[0m\u001b[0mPicture\u001b[0m\u001b[1;33m(\u001b[0m\u001b[0msamples\u001b[0m\u001b[1;33m,\u001b[0m\u001b[0mweights\u001b[0m\u001b[1;33m,\u001b[0m\u001b[0mbias\u001b[0m\u001b[1;33m)\u001b[0m\u001b[1;33m\u001b[0m\u001b[0m\n\u001b[0;32m     85\u001b[0m     \u001b[0mpicture\u001b[0m\u001b[1;33m.\u001b[0m\u001b[0mShow\u001b[0m\u001b[1;33m(\u001b[0m\u001b[1;33m)\u001b[0m\u001b[1;33m\u001b[0m\u001b[0m\n",
      "\u001b[1;32m<ipython-input-16-0f98ac984cf6>\u001b[0m in \u001b[0;36mtrain\u001b[1;34m(self)\u001b[0m\n\u001b[0;32m     43\u001b[0m             \u001b[0mcount\u001b[0m\u001b[1;33m=\u001b[0m\u001b[1;36m0\u001b[0m\u001b[1;33m\u001b[0m\u001b[0m\n\u001b[0;32m     44\u001b[0m             \u001b[1;32mfor\u001b[0m \u001b[0mi\u001b[0m \u001b[1;32min\u001b[0m \u001b[0mrange\u001b[0m\u001b[1;33m(\u001b[0m\u001b[0mself\u001b[0m\u001b[1;33m.\u001b[0m\u001b[0mnumsamples\u001b[0m\u001b[1;33m)\u001b[0m\u001b[1;33m:\u001b[0m\u001b[1;33m\u001b[0m\u001b[0m\n\u001b[1;32m---> 45\u001b[1;33m                 \u001b[0mtmpY\u001b[0m\u001b[1;33m=\u001b[0m\u001b[0mself\u001b[0m\u001b[1;33m.\u001b[0m\u001b[0msign\u001b[0m\u001b[1;33m(\u001b[0m\u001b[0mself\u001b[0m\u001b[1;33m.\u001b[0m\u001b[0mw\u001b[0m\u001b[1;33m,\u001b[0m\u001b[0mself\u001b[0m\u001b[1;33m.\u001b[0m\u001b[0mb\u001b[0m\u001b[1;33m,\u001b[0m\u001b[0mself\u001b[0m\u001b[1;33m.\u001b[0m\u001b[0mx\u001b[0m\u001b[1;33m[\u001b[0m\u001b[0mi\u001b[0m\u001b[1;33m,\u001b[0m\u001b[1;33m:\u001b[0m\u001b[1;33m]\u001b[0m\u001b[1;33m)\u001b[0m\u001b[1;33m\u001b[0m\u001b[0m\n\u001b[0m\u001b[0;32m     46\u001b[0m                 \u001b[1;32mif\u001b[0m \u001b[0mtmpY\u001b[0m\u001b[1;33m*\u001b[0m\u001b[0mself\u001b[0m\u001b[1;33m.\u001b[0m\u001b[0my\u001b[0m\u001b[1;33m[\u001b[0m\u001b[0mi\u001b[0m\u001b[1;33m]\u001b[0m\u001b[1;33m<=\u001b[0m\u001b[1;36m0\u001b[0m\u001b[1;33m:\u001b[0m\u001b[1;33m\u001b[0m\u001b[0m\n\u001b[0;32m     47\u001b[0m                     \u001b[0mprint\u001b[0m\u001b[1;33m(\u001b[0m\u001b[1;34m'误分类点为：'\u001b[0m\u001b[1;33m,\u001b[0m\u001b[0mself\u001b[0m\u001b[1;33m.\u001b[0m\u001b[0mx\u001b[0m\u001b[1;33m[\u001b[0m\u001b[0mi\u001b[0m\u001b[1;33m,\u001b[0m\u001b[1;33m:\u001b[0m\u001b[1;33m]\u001b[0m\u001b[1;33m,\u001b[0m\u001b[1;34m'此时的w和b为：'\u001b[0m\u001b[1;33m,\u001b[0m\u001b[0mself\u001b[0m\u001b[1;33m.\u001b[0m\u001b[0mw\u001b[0m\u001b[1;33m,\u001b[0m\u001b[0mself\u001b[0m\u001b[1;33m.\u001b[0m\u001b[0mb\u001b[0m\u001b[1;33m)\u001b[0m\u001b[1;33m\u001b[0m\u001b[0m\n",
      "\u001b[1;32m<ipython-input-16-0f98ac984cf6>\u001b[0m in \u001b[0;36msign\u001b[1;34m(self, w, b, key)\u001b[0m\n\u001b[0;32m     29\u001b[0m     \u001b[1;32mdef\u001b[0m \u001b[0msign\u001b[0m\u001b[1;33m(\u001b[0m\u001b[0mself\u001b[0m\u001b[1;33m,\u001b[0m\u001b[0mw\u001b[0m\u001b[1;33m,\u001b[0m\u001b[0mb\u001b[0m\u001b[1;33m,\u001b[0m\u001b[0mkey\u001b[0m\u001b[1;33m)\u001b[0m\u001b[1;33m:\u001b[0m\u001b[1;33m\u001b[0m\u001b[0m\n\u001b[0;32m     30\u001b[0m         \u001b[0my\u001b[0m\u001b[1;33m=\u001b[0m\u001b[0mnp\u001b[0m\u001b[1;33m.\u001b[0m\u001b[0mdot\u001b[0m\u001b[1;33m(\u001b[0m\u001b[0mw\u001b[0m\u001b[1;33m*\u001b[0m\u001b[0mself\u001b[0m\u001b[1;33m.\u001b[0m\u001b[0my\u001b[0m\u001b[1;33m,\u001b[0m\u001b[0mself\u001b[0m\u001b[1;33m.\u001b[0m\u001b[0mgMatrix\u001b[0m\u001b[1;33m[\u001b[0m\u001b[1;33m:\u001b[0m\u001b[1;33m,\u001b[0m\u001b[0mkey\u001b[0m\u001b[1;33m]\u001b[0m\u001b[1;33m)\u001b[0m\u001b[1;33m+\u001b[0m\u001b[0mb\u001b[0m\u001b[1;33m\u001b[0m\u001b[0m\n\u001b[1;32m---> 31\u001b[1;33m         \u001b[1;32mreturn\u001b[0m \u001b[0mint\u001b[0m\u001b[1;33m(\u001b[0m\u001b[0my\u001b[0m\u001b[1;33m)\u001b[0m\u001b[1;33m\u001b[0m\u001b[0m\n\u001b[0m\u001b[0;32m     32\u001b[0m \u001b[1;33m\u001b[0m\u001b[0m\n\u001b[0;32m     33\u001b[0m     \u001b[1;32mdef\u001b[0m \u001b[0mupdate\u001b[0m\u001b[1;33m(\u001b[0m\u001b[0mself\u001b[0m\u001b[1;33m,\u001b[0m\u001b[0mi\u001b[0m\u001b[1;33m)\u001b[0m\u001b[1;33m:\u001b[0m\u001b[1;33m\u001b[0m\u001b[0m\n",
      "\u001b[1;31mTypeError\u001b[0m: only size-1 arrays can be converted to Python scalars"
     ]
    }
   ],
   "source": [
    "import numpy as np\n",
    "import matplotlib.pyplot as plt\n",
    "\n",
    "\n",
    "def createdata():\n",
    "    samples = np.array([[3,-1],[4,-3],[1,1],[1,2]])\n",
    "    labels = [-1,-1,1,1]\n",
    "    return samples,labels\n",
    "#训练感知机模型\n",
    "class Perceptron():\n",
    "    def __init__(self,x,y,a=1):\n",
    "        self.x=x\n",
    "        self.y=y\n",
    "        self.w=np.zeros((x.shape[1],1))\n",
    "        self.b=0\n",
    "        self.a=1\n",
    "        self.numsamples=self.x.shape[0]\n",
    "        self.numfeatures=self.x.shape[1]\n",
    "        self.gMatrix=self.cal_gram(self.x)\n",
    "\n",
    "#定义Gram矩阵\n",
    "    def cal_gram(self,x):\n",
    "        gMatrix=np.zeros((self.numsamples,self.numsamples))\n",
    "        for i in range(self.numsamples):\n",
    "            for j in range(self.numsamples):\n",
    "                gMatrix[i][j]=np.dot(self.x[i,:],self.x[j,:])\n",
    "        return gMatrix\n",
    "    \n",
    "    def sign(self,w,b,key):\n",
    "        y=np.dot(w*self.y,self.gMatrix[:,key])+b\n",
    "        return int(y)\n",
    "\n",
    "    def update(self,i):\n",
    "        self.w[i,]=self.w[i,]+self.a\n",
    "        self.b=self.b+self.y[i]*self.a\n",
    "    def cal_w(self):\n",
    "        w=np.dot(self.w*self.y,self.x)\n",
    "        return w\n",
    "    \n",
    "    def train(self):\n",
    "        isFind=False\n",
    "        while not isFind:\n",
    "            count=0\n",
    "            for i in range(self.numsamples):\n",
    "                tmpY=self.sign(self.w,self.b,self.x[i,:])\n",
    "                if tmpY*self.y[i]<=0:\n",
    "                    print('误分类点为：',self.x[i,:],'此时的w和b为：',self.w,self.b)\n",
    "                \n",
    "                    count+=1\n",
    "                    self.update(self.y[i],self.x[i,:])\n",
    "                 \n",
    "            if count ==0:\n",
    "                print('最终得到的w和b为：',self.w,self.b)\n",
    "                isFind=True\n",
    "        weights=self.cal_w()\n",
    "        return weights,self.b\n",
    "class Picture():\n",
    "    def __init__(self,data,w,b):\n",
    "        self.b=b\n",
    "        self.w=w\n",
    "        plt.figure(1)\n",
    "        plt.title('Perceptron Learning Algotithm',size=14)\n",
    "        plt.xlabel('x0-axis',size=14)\n",
    "        plt.ylabel('x1-axis',size=14)\n",
    "        xData=np.linspace(0,5,100)\n",
    "        yData=self.expression(xData)\n",
    "        plt.plot(xData,yData,color='r',label='sample data')\n",
    "        \n",
    "        plt.scatter(data[0][0],data[0][1],s=50)\n",
    "        plt.scatter(data[1][0],data[1][1],s=50)\n",
    "        plt.scatter(data[2][0],data[2][1],s=50,marker='x')\n",
    "        plt.scatter(data[3][0],data[3][1],s=50,marker='x')\n",
    "        \n",
    "    def expression(self,x):\n",
    "        y=(-self.b-self.w[0]*x)/self.w[1]\n",
    "        return y\n",
    "    def Show(self):\n",
    "        plt.show()\n",
    "        \n",
    "if __name__=='__main__':\n",
    "    samples,labels=createdata()\n",
    "    mp=Perceptron(x=samples,y=labels)\n",
    "    weights,bias=mp.train()\n",
    "    picture=Picture(samples,weights,bias)\n",
    "    picture.Show()"
   ]
  },
  {
   "cell_type": "code",
   "execution_count": 28,
   "metadata": {},
   "outputs": [
    {
     "data": {
      "text/plain": [
       "array([[ 0,  1,  2,  3],\n",
       "       [ 4,  5,  6,  7],\n",
       "       [ 8,  9, 10, 11],\n",
       "       [12, 13, 14, 15],\n",
       "       [16, 17, 18, 19],\n",
       "       [20, 21, 22, 23],\n",
       "       [24, 25, 26, 27],\n",
       "       [28, 29, 30, 31]])"
      ]
     },
     "execution_count": 28,
     "metadata": {},
     "output_type": "execute_result"
    }
   ],
   "source": [
    "arr=np.arange(32).reshape((8,4))\n",
    "arr"
   ]
  },
  {
   "cell_type": "code",
   "execution_count": 34,
   "metadata": {},
   "outputs": [
    {
     "data": {
      "text/plain": [
       "array([[ 4,  7,  5,  6],\n",
       "       [20, 23, 21, 22],\n",
       "       [28, 31, 29, 30],\n",
       "       [ 8, 11,  9, 10]])"
      ]
     },
     "execution_count": 34,
     "metadata": {},
     "output_type": "execute_result"
    }
   ],
   "source": [
    "arr[[1,5,7,2]][:,[0,3,1,2]]"
   ]
  },
  {
   "cell_type": "code",
   "execution_count": 15,
   "metadata": {},
   "outputs": [
    {
     "name": "stdout",
     "output_type": "stream",
     "text": [
      "误分类点为： [ 3 -3] 此时的w和b为： [[0. 0.]] , 0\n",
      "最终训练得到的w和b为： [[-5.  9.]] , -1\n"
     ]
    },
    {
     "data": {
      "image/png": "[encoded data removed]",
      "text/plain": [
       "<matplotlib.figure.Figure at 0x24b10d4af98>"
      ]
     },
     "metadata": {},
     "output_type": "display_data"
    }
   ],
   "source": [
    "\n",
    "import numpy as np\n",
    "import matplotlib.pyplot as plt\n",
    " \n",
    "#1、创建数据集\n",
    "def createdata():\n",
    " samples=np.array([[3,-3],[4,-3],[1,1],[1,2]])\n",
    " labels=np.array([-1,-1,1,1])\n",
    " return samples,labels\n",
    " \n",
    "#训练感知机模型\n",
    "class Perceptron:\n",
    " def __init__(self,x,y,a=1):\n",
    "  self.x=x\n",
    "  self.y=y\n",
    "  self.w=np.zeros((1,x.shape[0]))\n",
    "  self.b=0\n",
    "  self.a=1#学习率\n",
    "  self.numsamples=self.x.shape[0]\n",
    "  self.numfeatures=self.x.shape[1]\n",
    "  self.gMatrix=self.cal_gram(self.x)\n",
    " \n",
    " def cal_gram(self,x):\n",
    "  gMatrix=np.zeros((self.numsamples,self.numsamples))\n",
    "  for i in range(self.numsamples):\n",
    "   for j in range(self.numsamples):\n",
    "    gMatrix[i][j]=np.dot(self.x[i,:],self.x[j,:])\n",
    "  return gMatrix\n",
    " \n",
    " def sign(self,w,b,key):\n",
    "  y=np.dot(w*self.y,self.gMatrix[:,key])+b\n",
    "  return int(y)\n",
    " \n",
    " def update(self,i):\n",
    "  self.w[i,]=self.w[i,]+self.a\n",
    "  self.b=self.b+self.y[i]*self.a\n",
    " \n",
    " def cal_w(self):\n",
    "  w=np.dot(self.w*self.y,self.x)\n",
    "  return w\n",
    " \n",
    " def train(self):\n",
    "  isFind=False\n",
    "  while not isFind:\n",
    "   count=0\n",
    "   for i in range(self.numsamples):\n",
    "    tmpY=self.sign(self.w,self.b,i)\n",
    "    if tmpY*self.y[i]<=0:#如果是一个误分类实例点\n",
    "     print ('误分类点为：',self.x[i,:],'此时的w和b为：',self.cal_w(),',',self.b)\n",
    "     count+=1\n",
    "     self.update(i)\n",
    "   if count==0:\n",
    "    print ('最终训练得到的w和b为：',self.cal_w(),',',self.b)\n",
    "    isFind=True\n",
    "  weights=self.cal_w()\n",
    "  return weights,self.b\n",
    " \n",
    "#画图描绘\n",
    "class Picture:\n",
    " def __init__(self,data,w,b):\n",
    "  self.b=b\n",
    "  self.w=w\n",
    "  plt.figure(1)\n",
    "  plt.title('Perceptron Learning Algorithm',size=14)\n",
    "  plt.xlabel('x0-axis',size=14)\n",
    "  plt.ylabel('x1-axis',size=14)\n",
    " \n",
    "  xData=np.linspace(0,5,100)\n",
    "  yData=self.expression(xData)\n",
    "  plt.plot(xData,yData,color='r',label='sample data')\n",
    " \n",
    "  plt.scatter(data[0][0],data[0][1],s=50)\n",
    "  plt.scatter(data[1][0],data[1][1],s=50)\n",
    "  plt.scatter(data[2][0],data[2][1],s=50,marker='x')\n",
    "  plt.scatter(data[3][0],data[3][1],s=50,marker='x')\n",
    "  plt.savefig('2d.png',dpi=75)\n",
    " \n",
    " def expression(self,x):\n",
    "  y=(-self.b-self.w[:,0]*x)/self.w[:,1]\n",
    "  return y\n",
    " \n",
    " def Show(self):\n",
    "  plt.show()\n",
    " \n",
    " \n",
    "if __name__ == '__main__':\n",
    " \n",
    " samples,labels=createdata()\n",
    " myperceptron=Perceptron(x=samples,y=labels)\n",
    " weights,bias=myperceptron.train()\n",
    " Picture=Picture(samples,weights,bias)\n",
    " Picture.Show()\n"
   ]
  },
  {
   "cell_type": "code",
   "execution_count": null,
   "metadata": {
    "collapsed": true
   },
   "outputs": [],
   "source": []
  },
  {
   "cell_type": "code",
   "execution_count": 8,
   "metadata": {},
   "outputs": [
    {
     "name": "stdout",
     "output_type": "stream",
     "text": [
      "Object `first.strip` not found.\n"
     ]
    }
   ],
   "source": []
  },
  {
   "cell_type": "code",
   "execution_count": null,
   "metadata": {
    "collapsed": true
   },
   "outputs": [],
   "source": []
  },
  {
   "cell_type": "code",
   "execution_count": null,
   "metadata": {
    "collapsed": true
   },
   "outputs": [],
   "source": []
  },
  {
   "cell_type": "code",
   "execution_count": null,
   "metadata": {
    "collapsed": true
   },
   "outputs": [],
   "source": []
  },
  {
   "cell_type": "code",
   "execution_count": null,
   "metadata": {
    "collapsed": true
   },
   "outputs": [],
   "source": []
  }
 ],
 "metadata": {
  "kernelspec": {
   "display_name": "Python 3",
   "language": "python",
   "name": "python3"
  },
  "language_info": {
   "codemirror_mode": {
    "name": "ipython",
    "version": 3
   },
   "file_extension": ".py",
   "mimetype": "text/x-python",
   "name": "python",
   "nbconvert_exporter": "python",
   "pygments_lexer": "ipython3",
   "version": "3.6.3"
  }
 },
 "nbformat": 4,
 "nbformat_minor": 2
}
