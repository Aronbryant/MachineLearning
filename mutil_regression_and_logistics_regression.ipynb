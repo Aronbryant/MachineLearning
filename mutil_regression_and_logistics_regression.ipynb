{
 "cells": [
  {
   "cell_type": "markdown",
   "metadata": {},
   "source": [
    "# 1、多元线性回归\n",
    "## 为了充分利用凸优化中一些高效、成熟的优化方法，比如共轭梯度、拟牛顿法等，很多机器学习的方法都倾向于选择合适的模型和损失函数。\n",
    "## 在机器学习中，最简单、常用的方法就是梯度下降法，首先初始化参数$\\theta_0$然后按照下面的公式来计算训练集D上的风险函数的最小值。\n",
    "$$\n",
    "\\begin{align}\n",
    "\\theta_{t+1}=\\theta_t-\\alpha\\frac{\\partial R_D(\\theta)}{\\partial \\theta}\n",
    "=\\theta_t-\\alpha\\frac{1}{N}\\sum_{n=1}^{N}{\\frac{\\partial L(y^{(n)},f(x^{(n)};\\theta))}{\\partial \\theta}}\n",
    "\\end{align}\n",
    "$$\n",
    "## 其中$\\theta_t$为第t次迭代时的参数值，$\\alpha$为搜索步长，在机器学习中，$\\alpha$一般称为学习率。"
   ]
  },
  {
   "cell_type": "code",
   "execution_count": 2,
   "metadata": {},
   "outputs": [],
   "source": [
    "#首先导入需要的包\n",
    "import pandas as pd \n",
    "import numpy as np\n",
    "import timeit\n",
    "import time"
   ]
  },
  {
   "cell_type": "markdown",
   "metadata": {},
   "source": [
    "## 1.1 批量梯度下降\n",
    "优化的代价函数是关于所有数据样本的loss,计算整个样本的loss后才更新权值"
   ]
  },
  {
   "cell_type": "code",
   "execution_count": 6,
   "metadata": {},
   "outputs": [],
   "source": [
    "#编写bgd函数\n",
    "def bgd(x,y,init_w,iter_size,lr):\n",
    "    '''\n",
    "    x:输入数据x\n",
    "    init_w:初始化的参数\n",
    "    y：输出y\n",
    "    iter_size:迭代次数\n",
    "    lr:学习率\n",
    "    '''\n",
    "    start_time = timeit.default_timer()\n",
    "    w = init_w\n",
    "    m = x.shape[0]\n",
    "    for i in range(iter_size):\n",
    "        predict = x.dot(w) \n",
    "        grad = x.T.dot((predict - y)) / m * lr\n",
    "        w -= grad \n",
    "    print(w)\n",
    "    end_time = timeit.default_timer()\n",
    "    print ('时间损耗为: ',end_time - start_time)\n",
    "#使用样本量为2000，维度为5的数据进行测试\n",
    "# data_num = 2000\n",
    "# weight_num = 5\n",
    "# x,y = loadData(data_num,weight_num)\n",
    "w = np.zeros((3,1)) #初始化w\n",
    "# bgd(x,y,w.copy(),100,0.1)"
   ]
  },
  {
   "cell_type": "code",
   "execution_count": 4,
   "metadata": {},
   "outputs": [],
   "source": [
    "data = pd.read_csv(r'C:\\Users\\aron\\Desktop\\Advertising.txt')"
   ]
  },
  {
   "cell_type": "code",
   "execution_count": 11,
   "metadata": {},
   "outputs": [
    {
     "data": {
      "text/html": [
       "<div>\n",
       "<style scoped>\n",
       "    .dataframe tbody tr th:only-of-type {\n",
       "        vertical-align: middle;\n",
       "    }\n",
       "\n",
       "    .dataframe tbody tr th {\n",
       "        vertical-align: top;\n",
       "    }\n",
       "\n",
       "    .dataframe thead th {\n",
       "        text-align: right;\n",
       "    }\n",
       "</style>\n",
       "<table border=\"1\" class=\"dataframe\">\n",
       "  <thead>\n",
       "    <tr style=\"text-align: right;\">\n",
       "      <th></th>\n",
       "      <th>TV</th>\n",
       "      <th>radio</th>\n",
       "      <th>newspaper</th>\n",
       "      <th>sales</th>\n",
       "    </tr>\n",
       "  </thead>\n",
       "  <tbody>\n",
       "    <tr>\n",
       "      <th>1</th>\n",
       "      <td>230.1</td>\n",
       "      <td>37.8</td>\n",
       "      <td>69.2</td>\n",
       "      <td>22.1</td>\n",
       "    </tr>\n",
       "    <tr>\n",
       "      <th>2</th>\n",
       "      <td>44.5</td>\n",
       "      <td>39.3</td>\n",
       "      <td>45.1</td>\n",
       "      <td>10.4</td>\n",
       "    </tr>\n",
       "    <tr>\n",
       "      <th>3</th>\n",
       "      <td>17.2</td>\n",
       "      <td>45.9</td>\n",
       "      <td>69.3</td>\n",
       "      <td>9.3</td>\n",
       "    </tr>\n",
       "    <tr>\n",
       "      <th>4</th>\n",
       "      <td>151.5</td>\n",
       "      <td>41.3</td>\n",
       "      <td>58.5</td>\n",
       "      <td>18.5</td>\n",
       "    </tr>\n",
       "    <tr>\n",
       "      <th>5</th>\n",
       "      <td>180.8</td>\n",
       "      <td>10.8</td>\n",
       "      <td>58.4</td>\n",
       "      <td>12.9</td>\n",
       "    </tr>\n",
       "  </tbody>\n",
       "</table>\n",
       "</div>"
      ],
      "text/plain": [
       "      TV  radio  newspaper  sales\n",
       "1  230.1   37.8       69.2   22.1\n",
       "2   44.5   39.3       45.1   10.4\n",
       "3   17.2   45.9       69.3    9.3\n",
       "4  151.5   41.3       58.5   18.5\n",
       "5  180.8   10.8       58.4   12.9"
      ]
     },
     "execution_count": 11,
     "metadata": {},
     "output_type": "execute_result"
    }
   ],
   "source": [
    "data.head()"
   ]
  },
  {
   "cell_type": "code",
   "execution_count": 5,
   "metadata": {},
   "outputs": [],
   "source": [
    "x = data.iloc[:,0:3]\n",
    "y = data.iloc[:,3:]"
   ]
  },
  {
   "cell_type": "code",
   "execution_count": 7,
   "metadata": {},
   "outputs": [
    {
     "name": "stdout",
     "output_type": "stream",
     "text": [
      "            0  sales\n",
      "TV        NaN    NaN\n",
      "radio     NaN    NaN\n",
      "newspaper NaN    NaN\n",
      "时间损耗为:  0.27409290000002784\n"
     ]
    }
   ],
   "source": [
    "bgd(x,y,w.copy(),100,0.1)"
   ]
  },
  {
   "cell_type": "code",
   "execution_count": 12,
   "metadata": {},
   "outputs": [],
   "source": [
    "from sklearn.linear_model import SGDRegressor\n",
    "sgd = SGDRegressor()"
   ]
  },
  {
   "cell_type": "code",
   "execution_count": 14,
   "metadata": {
    "scrolled": true
   },
   "outputs": [
    {
     "name": "stderr",
     "output_type": "stream",
     "text": [
      "C:\\Users\\aron\\anaconda3\\lib\\site-packages\\sklearn\\utils\\validation.py:72: DataConversionWarning: A column-vector y was passed when a 1d array was expected. Please change the shape of y to (n_samples, ), for example using ravel().\n",
      "  return f(**kwargs)\n"
     ]
    },
    {
     "data": {
      "text/plain": [
       "223.71625"
      ]
     },
     "execution_count": 14,
     "metadata": {},
     "output_type": "execute_result"
    }
   ],
   "source": [
    "sgd.fit(x,y)\n",
    "\n",
    "#利用sklearn中的混淆矩阵来计算均方误差MSE\n",
    "from sklearn.metrics import mean_squared_error\n",
    "y_pred = x.dot(w)\n",
    "mean_squared_error(y,y_pred)"
   ]
  },
  {
   "cell_type": "markdown",
   "metadata": {},
   "source": [
    "我们可以看出来用批量梯度下降效果很差，接下来我们用随机梯度下降以及小批量梯度下降继续模拟。"
   ]
  },
  {
   "cell_type": "markdown",
   "metadata": {},
   "source": [
    "## 1.2 随机梯度下降\n",
    "优化的代价函数是单个数据样本的loss，计算每个样本的loss后就立即更新权值"
   ]
  },
  {
   "cell_type": "code",
   "execution_count": 38,
   "metadata": {},
   "outputs": [
    {
     "name": "stdout",
     "output_type": "stream",
     "text": [
      "[[0.74746832]\n",
      " [0.09270717]\n",
      " [0.3490016 ]\n",
      " [0.51892012]\n",
      " [0.95071384]]\n",
      "时间损耗:  1.079916200000298\n"
     ]
    }
   ],
   "source": [
    "#编写sgd函数\n",
    "def sgd(x, y, init_w, iter_size, lr):\n",
    "    start_time = timeit.default_timer()\n",
    "    w = init_w\n",
    "    for i in range(iter_size):\n",
    "        for j in range(x.shape[0]):\n",
    "            temp_x = x[np.newaxis,j]\n",
    "            temp_y = y[np.newaxis, j]\n",
    "            predict = temp_x.dot(w)\n",
    "            grad = temp_x.T.dot((predict - temp_y)) / 1 * lr \n",
    "            w -= grad\n",
    "    print (w)\n",
    "    end_time = timeit.default_timer()\n",
    "    print ('时间损耗: ', end_time - start_time)\n",
    "#使用样本量为2000，维度为5的数据进行测试\n",
    "w = np.zeros((weight_num,1)) #初始化w\n",
    "sgd(x,y,w.copy(),100,0.1)"
   ]
  },
  {
   "cell_type": "code",
   "execution_count": 28,
   "metadata": {},
   "outputs": [
    {
     "data": {
      "text/plain": [
       "0.2815500182694513"
      ]
     },
     "execution_count": 28,
     "metadata": {},
     "output_type": "execute_result"
    }
   ],
   "source": [
    "#利用sklearn中的混淆矩阵来计算均方误差MSE\n",
    "from sklearn.metrics import mean_squared_error\n",
    "y_pred2 = x.dot(w)\n",
    "mean_squared_error(y,y_pred2)"
   ]
  },
  {
   "cell_type": "markdown",
   "metadata": {},
   "source": [
    "## 1.3 小批量随机梯度下降\n",
    "优化的代价函数是每块(batch_size)数据样本的loss，计算每快样本的loss后就更新权值"
   ]
  },
  {
   "cell_type": "code",
   "execution_count": 29,
   "metadata": {},
   "outputs": [
    {
     "name": "stdout",
     "output_type": "stream",
     "text": [
      "[[0.40290116]\n",
      " [0.41402132]\n",
      " [0.04587892]\n",
      " [0.01142551]\n",
      " [0.08324606]]\n",
      "损耗时间:  0.5230379000004177\n"
     ]
    }
   ],
   "source": [
    "#编写minibgd函数\n",
    "def minibgd(x,y,init_w,iter_size,lr,batch_size):\n",
    "    start_time = timeit.default_timer()\n",
    "    w = init_w\n",
    "    batch_predict = np.zeros((batch_size, 1))\n",
    "    batch_x = np.zeros((batch_size, init_w.shape[0]))\n",
    "    batch_y = np.zeros((batch_size, 1))\n",
    "    m = batch_size\n",
    "    batch_num = 0\n",
    "    for i in range(iter_size):\n",
    "        for j in range(x.shape[0]):\n",
    "            batch_x[batch_num] = x[np.newaxis, j]\n",
    "            batch_predict[batch_num][0] = batch_x[batch_num].dot(w)\n",
    "            batch_y[batch_num][0] = y[np.newaxis, j]\n",
    "            batch_num += 1\n",
    "            if batch_num==batch_size:\n",
    "                batch_num = 0\n",
    "                # x:(batch_size,weight_num) x.T:(weight_num,batch_size) \n",
    "                # y-predit:(batch_size,1)\n",
    "                # grad:(weight_num,1)\n",
    "                grad = batch_x.T.dot((batch_predict - batch_y)) / m *lr\n",
    "                w -= grad\n",
    "    print (w)\n",
    "    end_time = timeit.default_timer()\n",
    "    print ('损耗时间: ', end_time - start_time)\n",
    "#使用样本量为2000，维度为5的数据进行测试\n",
    "w = np.zeros((weight_num,1)) #初始化w\n",
    "minibgd(x,y,w.copy(),100,0.1,20)"
   ]
  },
  {
   "cell_type": "code",
   "execution_count": 30,
   "metadata": {},
   "outputs": [
    {
     "data": {
      "text/plain": [
       "0.2815500182694513"
      ]
     },
     "execution_count": 30,
     "metadata": {},
     "output_type": "execute_result"
    }
   ],
   "source": [
    "#利用sklearn中的混淆矩阵来计算均方误差MSE\n",
    "from sklearn.metrics import mean_squared_error\n",
    "y_pred3 = x.dot(w)\n",
    "mean_squared_error(y,y_pred3)"
   ]
  },
  {
   "cell_type": "markdown",
   "metadata": {},
   "source": [
    "### 由于批梯度下降是整个样本，可以利用numpy里面的矩阵乘法，速度较快。而随机梯度下降需要每个样本单独乘速度慢些，小批量梯度是保存到一个子集过后的样本后算乘法，但是由于多了赋值保存等操作还是比批梯度下降慢了些。\n",
    "### 在这个数据集中，我们可以看出使用批梯度下降算法的效果较差，MSE远大于使用随机梯度下降和小批次梯度下降。因此在这个数据集中使用随机梯度下降算法和小批量梯度下降算法效果较好。"
   ]
  },
  {
   "cell_type": "markdown",
   "metadata": {},
   "source": [
    "# "
   ]
  },
  {
   "cell_type": "markdown",
   "metadata": {},
   "source": [
    "# "
   ]
  },
  {
   "cell_type": "markdown",
   "metadata": {},
   "source": [
    "# 2、逻辑回归"
   ]
  },
  {
   "cell_type": "markdown",
   "metadata": {},
   "source": [
    "## 问题说明：\n",
    "这里将建立一个逻辑回归模型来预测一个学生是否被大学录取。\n",
    "假设我是一个大学的管理员，想根据两次考试的结果来决定每个申请人的录取机会，目前有以前的申请人的历史数据。可以用历史数据作为逻辑回归的训练集。对于每一个样本,有两次考试的申请人的成绩和录取决定。建立一个分类模型，根据考试成绩估计能否入学。\n"
   ]
  },
  {
   "cell_type": "code",
   "execution_count": 30,
   "metadata": {},
   "outputs": [
    {
     "data": {
      "image/png": "[encoded data removed]",
      "text/plain": [
       "<Figure size 720x360 with 1 Axes>"
      ]
     },
     "metadata": {
      "needs_background": "light"
     },
     "output_type": "display_data"
    }
   ],
   "source": [
    "import numpy as np\n",
    "import pandas as pd\n",
    "import matplotlib.pyplot as plt\n",
    "data = pd.read_csv(r'C:\\Users\\aron\\Desktop\\adimited.txt', \n",
    "header=None, names=['Exam1', 'Exam2', 'Admitted'],  engine='python')\n",
    "data.head()\n",
    " #展示数据前五列\n",
    "positive = data[data['Admitted']==1]\n",
    "negative = data[data['Admitted']==0]\n",
    "plt.figure(figsize=(10,5))#设置画布\n",
    "plt.scatter(positive['Exam1'], positive['Exam2'], c='b', marker='o',  label='Admitted')#绘制散点图positive的点，Exam1和Exam2组成一个点\n",
    "plt.scatter(negative['Exam1'], negative['Exam2'], c='r', marker='x', label='Not Admitted')#绘制散点图negative的点\n",
    "plt.legend()# 添加图例（也就是图中右上角positive和negative的解释）\n",
    "plt.xlabel('Exam1 ')#添加x轴标签plt.ylabel('Exam2 ')#添加y轴标签\n",
    "plt.show()"
   ]
  },
  {
   "cell_type": "code",
   "execution_count": 25,
   "metadata": {},
   "outputs": [],
   "source": [
    "# 定义模型函数\n",
    "# X 是样本数据，它的每一行都是一个样本，每一列为样本的某一个特征。\n",
    "# theta 表示参数，它是我们通过学习获得的，其中，对于每一个特征，都对应一个 theta\n",
    "def model(X, theta):\n",
    "    return sigmoid(np.dot(X, theta.T))\n"
   ]
  },
  {
   "cell_type": "code",
   "execution_count": 27,
   "metadata": {},
   "outputs": [],
   "source": [
    "\n",
    "\n",
    "\n",
    "# 定义损失函数\n",
    "def cost(X, y, theta):\n",
    "    left = np.multiply(-y, np.log(model(X, theta)))\n",
    "    right = np.multiply((1 - y), np.log(1 - model(X, theta)))\n",
    "    return np.sum(left - right) / (len(X))\n",
    "\n",
    "# 计算梯度\n",
    "# 计算每个参数的梯度方向\n",
    "def gradient(X, y, theta):\n",
    "    grad = np.zeros(theta.shape)\n",
    "    error = (model(X, theta) - y).ravel()\n",
    "    for j in range(len(theta.ravel())):  # for each parmeter\n",
    "        term = np.multiply(error, X[:, j])\n",
    "        grad[0, j] = np.sum(term) / len(X)\n",
    "    return grad\n",
    "\n",
    "\n",
    "# 设置三种策略\n",
    "STOP_ITER = 0\n",
    "STOP_COST = 1\n",
    "STOP_GRAD = 2\n",
    "\n",
    "\n",
    "def stopCriterion(type, value, threshold):\n",
    "    # 设定三种停止策略\n",
    "    if type == STOP_ITER:\n",
    "        return value > threshold\n",
    "    elif type == STOP_COST:\n",
    "        return abs(value[-1] - value[-2]) < threshold\n",
    "    elif type == STOP_GRAD:\n",
    "        # linalg=linear（线性）+algebra（代数），norm则表示范数\n",
    "        return np.linalg.norm(value) < threshold\n",
    "\n",
    "\n",
    "import numpy.random\n",
    "\n",
    "\n",
    "# 洗牌\n",
    "def shuffleData(data):\n",
    "    np.random.shuffle(data)\n",
    "    cols = data.shape[1]\n",
    "    X = data[:, 0:cols - 1]\n",
    "    y = data[:, cols - 1:]\n",
    "    return X, y\n",
    "\n",
    "\n",
    "import time\n",
    "\n",
    "\n",
    "def descent(data, theta, batchSize, stopType, thresh, alpha):\n",
    "    #  梯度下降\n",
    "    init_time = time.time()\n",
    "    # 迭代次数\n",
    "    i = 0\n",
    "    # batch\n",
    "    k = 0\n",
    "    X, y = shuffleData(data)\n",
    "    # 计算的梯度\n",
    "    grad = np.zeros(theta.shape)\n",
    "    # 损失值\n",
    "    costs = [cost(X, y, theta)]\n",
    "\n",
    "    while True:\n",
    "        grad = gradient(X[k:k + batchSize], y[k:k + batchSize], theta)\n",
    "        # 取batch数量个数据\n",
    "        k += batchSize\n",
    "        # 这个 n 是在运行的时候指定的，为样本的个数\n",
    "        if k >= n:\n",
    "            k = 0\n",
    "            # 重新洗牌\n",
    "            X, y = shuffleData(data)\n",
    "        # 参数更新\n",
    "        theta = theta - alpha * grad\n",
    "        # 计算新的损失\n",
    "        costs.append(cost(X, y, theta))\n",
    "        i += 1\n",
    "\n",
    "        if stopType == STOP_ITER:\n",
    "            value = i\n",
    "        elif stopType == STOP_COST:\n",
    "            value = costs\n",
    "        elif stopType == STOP_GRAD:\n",
    "            value = grad\n",
    "        if stopCriterion(stopType, value, thresh):\n",
    "            break\n",
    "    return theta, i - 1, costs, grad, time.time() - init_time\n",
    "\n",
    "\n",
    "def runExpe(data, theta, batchSize, stopType, thresh, alpha):\n",
    "    # import pdb; pdb.set_trace();\n",
    "    theta, iter, costs, grad, dur = descent(data, theta, batchSize, stopType, thresh, alpha)\n",
    "    name = \"Original\" if (data[:, 1] > 2).sum() > 1 else \"Scaled\"\n",
    "    name += \" data - learning rate: {} - \".format(alpha)\n",
    "    if batchSize == n:\n",
    "        strDescType = \"Gradient\"\n",
    "    elif batchSize == 1:\n",
    "        strDescType = \"Stochastic\"\n",
    "    else:\n",
    "        strDescType = \"Mini-batch ({})\".format(batchSize)\n",
    "    name += strDescType + \" descent - Stop: \"\n",
    "    if stopType == STOP_ITER:\n",
    "        strStop = \"{} iterations\".format(thresh)\n",
    "    elif stopType == STOP_COST:\n",
    "        strStop = \"costs change < {}\".format(thresh)\n",
    "    else:\n",
    "        strStop = \"gradient norm < {}\".format(thresh)\n",
    "    name += strStop\n",
    "    print(\"***{}\\nTheta: {} - Iter: {} - Last cost: {:03.2f} - Duration: {:03.2f}s\".format(\n",
    "        name, theta, iter, costs[-1], dur))\n",
    "    fig, ax = plt.subplots(figsize=(12, 4))\n",
    "    ax.plot(np.arange(len(costs)), costs, 'r')\n",
    "    ax.set_xlabel('Iterations')\n",
    "    ax.set_ylabel('Cost')\n",
    "    ax.set_title(name.upper() + ' - Error vs. Iteration')\n",
    "    return theta\n",
    "\n"
   ]
  },
  {
   "cell_type": "code",
   "execution_count": 31,
   "metadata": {},
   "outputs": [
    {
     "data": {
      "text/plain": [
       "((100, 3), (100, 1), (1, 3))"
      ]
     },
     "execution_count": 31,
     "metadata": {},
     "output_type": "execute_result"
    }
   ],
   "source": [
    "# 在第 0 列，插入一列，名称为\"Onces\"，数值全为 1\n",
    "data.insert(0, 'Onces', 1)\n",
    "# X：训练数据   Y：目标值\n",
    "# 将数据的panda表示形式转换为对进一步计算有用的数组\n",
    "# 这个方法过时会有警告\n",
    "orig_data = data.values\n",
    "cols = orig_data.shape[1]\n",
    "X = orig_data[:, 0:cols - 1]\n",
    "y = orig_data[:, cols - 1:cols]\n",
    "# 初始化theta\n",
    "theta = np.zeros([1, 3])\n",
    "\n",
    "X.shape, y.shape, theta.shape\n"
   ]
  },
  {
   "cell_type": "code",
   "execution_count": null,
   "metadata": {},
   "outputs": [],
   "source": []
  },
  {
   "cell_type": "markdown",
   "metadata": {},
   "source": [
    "## 2.1批量梯度下降\n",
    "设置迭代次数为停止策略，设定迭代次数为5000次"
   ]
  },
  {
   "cell_type": "code",
   "execution_count": 33,
   "metadata": {},
   "outputs": [
    {
     "name": "stdout",
     "output_type": "stream",
     "text": [
      "***Original data - learning rate: 1e-06 - Gradient descent - Stop: 5000 iterations\n",
      "Theta: [[-0.00026726  0.00713145  0.00390074]] - Iter: 5000 - Last cost: 0.63 - Duration: 0.76s\n"
     ]
    },
    {
     "data": {
      "image/png": "[encoded data removed]",
      "text/plain": [
       "<Figure size 864x288 with 1 Axes>"
      ]
     },
     "metadata": {
      "needs_background": "light"
     },
     "output_type": "display_data"
    }
   ],
   "source": [
    "#设置迭代次数为停止策略，设定迭代次数为5000次\n",
    "\n",
    "# 选择的梯度下降方法是基于所有样本的\n",
    "# 当n值指定为10的时候,相当于整体对于梯度下降,为什么呢?因为我的数据样本就10个.\n",
    "# 传进来的数据是按照迭代次数进行停止的,\n",
    "# 指定迭代次数的参数是thresh=5000.学习率是alpha=0.000001.\n",
    "n = 10\n",
    "runExpe(orig_data, theta, n, STOP_ITER, thresh=5000, alpha=0.000001)\n",
    "plt.show()\n"
   ]
  },
  {
   "cell_type": "markdown",
   "metadata": {},
   "source": [
    "## 2.2随机梯度下降\n"
   ]
  },
  {
   "cell_type": "code",
   "execution_count": 34,
   "metadata": {
    "scrolled": true
   },
   "outputs": [
    {
     "name": "stdout",
     "output_type": "stream",
     "text": [
      "***Original data - learning rate: 0.001 - Gradient descent - Stop: costs change < 1e-06\n",
      "Theta: [[-0.29355285  0.01647451 -0.00122113]] - Iter: 4119 - Last cost: 0.61 - Duration: 0.64s\n"
     ]
    },
    {
     "data": {
      "image/png": "[encoded data removed]",
      "text/plain": [
       "<Figure size 864x288 with 1 Axes>"
      ]
     },
     "metadata": {
      "needs_background": "light"
     },
     "output_type": "display_data"
    }
   ],
   "source": [
    "#设置迭代次数为停止策略，设置迭代次数为5000\n",
    "\n",
    "# 设定阈值 1E-6, 差不多需要110 000次迭代\n",
    "runExpe(orig_data, theta, n, STOP_COST, thresh=0.000001, alpha=0.001)\n",
    "plt.show()\n"
   ]
  },
  {
   "cell_type": "markdown",
   "metadata": {},
   "source": [
    "如果采用随机梯度下降（每次只使用一个样本），或者小批量梯度下降（每次采用 mini-batch），会产生上面的效果——波动太大"
   ]
  },
  {
   "cell_type": "markdown",
   "metadata": {},
   "source": [
    "有至少两种解决方案：\n",
    "\n",
    "（1）将学习率调小一点，情况肯定会有所改善\n",
    "\n",
    "（2）对数据去均值化。将数据按其属性(按列进行)减去其均值，然后除以其方差。最后得到的结果是，对每个属性/每列来说所有数据都聚集在0附近，方差值为1。"
   ]
  },
  {
   "cell_type": "code",
   "execution_count": 38,
   "metadata": {},
   "outputs": [
    {
     "name": "stdout",
     "output_type": "stream",
     "text": [
      "***Scaled data - learning rate: 0.001 - Gradient descent - Stop: costs change < 1e-06\n",
      "Theta: [[ 0.00705949  0.00181457 -0.00146384]] - Iter: 50 - Last cost: 0.69 - Duration: 0.01s\n"
     ]
    },
    {
     "data": {
      "image/png": "[encoded data removed]",
      "text/plain": [
       "<Figure size 864x288 with 1 Axes>"
      ]
     },
     "metadata": {
      "needs_background": "light"
     },
     "output_type": "display_data"
    }
   ],
   "source": [
    "runExpe(scaled_data, theta, n, STOP_COST, thresh=0.000001, alpha=0.001)\n",
    "plt.show()\n"
   ]
  },
  {
   "cell_type": "markdown",
   "metadata": {},
   "source": [
    "从图中可以看出来损失函数是基本收敛的，速度比较快，但是整体不是很稳定。"
   ]
  },
  {
   "cell_type": "markdown",
   "metadata": {},
   "source": [
    "## 2.3小批量梯度下降\n",
    "\n"
   ]
  },
  {
   "cell_type": "code",
   "execution_count": 36,
   "metadata": {},
   "outputs": [],
   "source": [
    "#我们先对数据进行标准化，将数据按照属性减去均值，然后除以方差\n",
    "from sklearn import preprocessing \n",
    "scaled_data = orig_data.copy() \n",
    "scaled_data[:,1:3] = preprocessing.scale(data.iloc[:,1:3])"
   ]
  },
  {
   "cell_type": "code",
   "execution_count": 37,
   "metadata": {},
   "outputs": [
    {
     "name": "stdout",
     "output_type": "stream",
     "text": [
      "***Scaled data - learning rate: 0.001 - Mini-batch (16) descent - Stop: gradient norm < 0.004\n",
      "Theta: [[ 0.41454425  0.11479391 -0.17005683]] - Iter: 47239 - Last cost: 0.67 - Duration: 7.92s\n"
     ]
    },
    {
     "data": {
      "text/plain": [
       "array([[ 0.41454425,  0.11479391, -0.17005683]])"
      ]
     },
     "execution_count": 37,
     "metadata": {},
     "output_type": "execute_result"
    },
    {
     "data": {
      "image/png": "[encoded data removed]",
      "text/plain": [
       "<Figure size 864x288 with 1 Axes>"
      ]
     },
     "metadata": {
      "needs_background": "light"
     },
     "output_type": "display_data"
    }
   ],
   "source": [
    "#设置迭代次数为5000次执行批量梯度下降策略\n",
    "\n",
    "runExpe(scaled_data,theta,16,STOP_GRAD,thresh=0.002*2,alpha=0.001)"
   ]
  },
  {
   "cell_type": "markdown",
   "metadata": {},
   "source": [
    "可以看出使用标准化过后的数据进行小批量梯度（每次取32个数据）下降得到的损失小得多，我们最终得到的损失达到了0.67。"
   ]
  },
  {
   "cell_type": "markdown",
   "metadata": {},
   "source": [
    "从以上结论可以发现，小批量梯度下降在运行时间和效果方面都优于随机梯度下降和批量梯度下降，因此可以得出结论，在此次案例中小批量梯度下降的策略是相对较好的。"
   ]
  }
 ],
 "metadata": {
  "kernelspec": {
   "display_name": "Python 3",
   "language": "python",
   "name": "python3"
  },
  "language_info": {
   "codemirror_mode": {
    "name": "ipython",
    "version": 3
   },
   "file_extension": ".py",
   "mimetype": "text/x-python",
   "name": "python",
   "nbconvert_exporter": "python",
   "pygments_lexer": "ipython3",
   "version": "3.8.5"
  }
 },
 "nbformat": 4,
 "nbformat_minor": 4
}
