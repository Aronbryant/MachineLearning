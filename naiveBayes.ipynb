{
 "cells": [
  {
   "cell_type": "code",
   "execution_count": 5,
   "metadata": {},
   "outputs": [
    {
     "ename": "SyntaxError",
     "evalue": "invalid syntax (<ipython-input-5-b025c27f5659>, line 32)",
     "output_type": "error",
     "traceback": [
      "\u001b[1;36m  File \u001b[1;32m\"<ipython-input-5-b025c27f5659>\"\u001b[1;36m, line \u001b[1;32m32\u001b[0m\n\u001b[1;33m    pkey = str(x)+'|'str(y)\u001b[0m\n\u001b[1;37m                       ^\u001b[0m\n\u001b[1;31mSyntaxError\u001b[0m\u001b[1;31m:\u001b[0m invalid syntax\n"
     ]
    }
   ],
   "source": [
    "\n",
    "\n",
    "\n",
    "import pandas as pd\n",
    "import numpy as np\n",
    "\n",
    "class NaiveBayes():\n",
    "    def getTrainSet(self,inputfilename):\n",
    "        dataSet = pd.read_csv(inputfilename)\n",
    "        dataSetNP = pd.array(dataSet)\n",
    "        trainData = dataSetNP[:,0:dataSetNP.shape[1]-1]\n",
    "        labels = dataSetNP[:,dataSetNP.shape[1]-1]\n",
    "        return trainData,labels\n",
    "    def classify(self,trainData,labels,features):\n",
    "        labels = list(labels)\n",
    "        labelset  = set(labels)\n",
    "        P_y = {}\n",
    "        for label in labelset:\n",
    "            P_y[label] = labels.count(label)/float(len(labels))\n",
    "            print(label,P_y[label])\n",
    "            \n",
    "        P_xy = {}\n",
    "        for y in P_y.keys():\n",
    "            y_index = [i for i ,label in enumerate(labels) if label ==y]#labels中出现y值的所有数值的下标索引\n",
    "            for j in range(len(features)):\n",
    "                x_index = [i for i ,feature in enumerate(trainData[:,j]) if feature == features[j]]\n",
    "                xy_count = len(set(x_index) & set(y_index))\n",
    "                pkey = str(features[j] + '*'+ str(y))\n",
    "                P_xy[pkey] = xy_count/float(len(labels))\n",
    "                print(pkey,P_xy[pkey])\n",
    "                \n",
    "        P ={}\n",
    "        for y in P_y.keys():\n",
    "            for x in features:\n",
    "                pkey = str(x)+'|'str(y)\n",
    "                P[pkey] = P_xy[str(x)+'*'+str(y)]/float(P_y[y])\n",
    "                print(pkey,P[pkey])\n",
    "        F = {}\n",
    "        for y in P_y:\n",
    "            F[y]=P_y[y]\n",
    "            for x in features:\n",
    "                F[y]=F[y]*P[str_(x)+'|'+str(y)]\n",
    "                print(str(x),str(y),F[y])\n",
    "        features_label=max(F,key=F.get)\n",
    "        return features_label\n",
    "if __name__ =='__main__':\n",
    "    nb = NaiveBayes()\n",
    "    trainData,labels,nb.getTrainSet()\n",
    "    features =[8]\n",
    "    result = nb.classify(trainData,labels,features)\n",
    "    print(features.'属于',result)"
   ]
  },
  {
   "cell_type": "code",
   "execution_count": 5,
   "metadata": {},
   "outputs": [
    {
     "data": {
      "text/html": [
       "<div>\n",
       "<style>\n",
       "    .dataframe thead tr:only-child th {\n",
       "        text-align: right;\n",
       "    }\n",
       "\n",
       "    .dataframe thead th {\n",
       "        text-align: left;\n",
       "    }\n",
       "\n",
       "    .dataframe tbody tr th {\n",
       "        vertical-align: top;\n",
       "    }\n",
       "</style>\n",
       "<table border=\"1\" class=\"dataframe\">\n",
       "  <thead>\n",
       "    <tr style=\"text-align: right;\">\n",
       "      <th></th>\n",
       "      <th>yys</th>\n",
       "      <th>ccc</th>\n",
       "      <th>cccc</th>\n",
       "    </tr>\n",
       "  </thead>\n",
       "  <tbody>\n",
       "    <tr>\n",
       "      <th>a</th>\n",
       "      <td>0</td>\n",
       "      <td>1</td>\n",
       "      <td>2</td>\n",
       "    </tr>\n",
       "    <tr>\n",
       "      <th>b</th>\n",
       "      <td>3</td>\n",
       "      <td>4</td>\n",
       "      <td>5</td>\n",
       "    </tr>\n",
       "    <tr>\n",
       "      <th>c</th>\n",
       "      <td>6</td>\n",
       "      <td>7</td>\n",
       "      <td>8</td>\n",
       "    </tr>\n",
       "  </tbody>\n",
       "</table>\n",
       "</div>"
      ],
      "text/plain": [
       "   yys  ccc  cccc\n",
       "a    0    1     2\n",
       "b    3    4     5\n",
       "c    6    7     8"
      ]
     },
     "execution_count": 5,
     "metadata": {},
     "output_type": "execute_result"
    }
   ],
   "source": [
    "frame = pd.DataFrame(np.arange(9).reshape((3,3)),index=['a','b','c'],columns =['yys','ccc','cccc'])\n",
    "frame"
   ]
  },
  {
   "cell_type": "code",
   "execution_count": 6,
   "metadata": {},
   "outputs": [
    {
     "data": {
      "text/plain": [
       "a    0.0\n",
       "b    1.0\n",
       "c    2.0\n",
       "d    3.0\n",
       "e    4.0\n",
       "dtype: float64"
      ]
     },
     "execution_count": 6,
     "metadata": {},
     "output_type": "execute_result"
    }
   ],
   "source": [
    "obj = pd.Series(np.arange(5.),index=['a','b','c','d','e'])\n",
    "obj.drop('c')\n",
    "obj\n",
    "\n"
   ]
  },
  {
   "cell_type": "code",
   "execution_count": null,
   "metadata": {
    "collapsed": true
   },
   "outputs": [],
   "source": []
  },
  {
   "cell_type": "code",
   "execution_count": 4,
   "metadata": {
    "collapsed": true
   },
   "outputs": [],
   "source": [
    "import numpy as np"
   ]
  },
  {
   "cell_type": "code",
   "execution_count": null,
   "metadata": {
    "collapsed": true
   },
   "outputs": [],
   "source": []
  },
  {
   "cell_type": "code",
   "execution_count": 2,
   "metadata": {
    "collapsed": true
   },
   "outputs": [],
   "source": [
    "import pandas as pd"
   ]
  },
  {
   "cell_type": "code",
   "execution_count": null,
   "metadata": {
    "collapsed": true
   },
   "outputs": [],
   "source": []
  }
 ],
 "metadata": {
  "kernelspec": {
   "display_name": "Python 3",
   "language": "python",
   "name": "python3"
  },
  "language_info": {
   "codemirror_mode": {
    "name": "ipython",
    "version": 3
   },
   "file_extension": ".py",
   "mimetype": "text/x-python",
   "name": "python",
   "nbconvert_exporter": "python",
   "pygments_lexer": "ipython3",
   "version": "3.6.3"
  }
 },
 "nbformat": 4,
 "nbformat_minor": 2
}
